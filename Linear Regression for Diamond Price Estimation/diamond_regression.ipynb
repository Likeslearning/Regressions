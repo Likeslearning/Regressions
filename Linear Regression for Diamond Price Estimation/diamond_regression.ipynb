{
  "nbformat": 4,
  "nbformat_minor": 0,
  "metadata": {
    "colab": {
      "name": "diamond_regression.ipynb",
      "provenance": [],
      "collapsed_sections": []
    },
    "kernelspec": {
      "name": "python3",
      "display_name": "Python 3"
    },
    "language_info": {
      "name": "python"
    }
  },
  "cells": [
    {
      "cell_type": "code",
      "execution_count": 1,
      "metadata": {
        "id": "-o5Y6BUk-l_d"
      },
      "outputs": [],
      "source": [
        "# Importing crucial libraries\n",
        "\n",
        "import numpy as np\n",
        "import pandas as pd\n",
        "import matplotlib.pyplot as plt\n",
        "\n",
        "from sklearn.preprocessing import LabelEncoder, MinMaxScaler\n",
        "from sklearn.linear_model import LinearRegression\n",
        "from sklearn.model_selection import train_test_split\n",
        "from sklearn.metrics import mean_squared_error, r2_score"
      ]
    },
    {
      "cell_type": "code",
      "source": [
        "# Reading the csv file and putting it into a Pandas dataframe\n",
        "\n",
        "data = pd.read_csv('diamonds.csv')\n",
        "data"
      ],
      "metadata": {
        "colab": {
          "base_uri": "https://localhost:8080/",
          "height": 423
        },
        "id": "kCsTdW70_qq4",
        "outputId": "159b72ea-c2c4-4e8e-cde4-9c721fa62bdb"
      },
      "execution_count": 2,
      "outputs": [
        {
          "output_type": "execute_result",
          "data": {
            "text/plain": [
              "       carat        cut color clarity   price\n",
              "0       0.51    Premium     F     VS1  1749.0\n",
              "1       2.25       Fair     G      I1  7069.0\n",
              "2       0.70  Very Good     E     VS2  2757.0\n",
              "3       0.47       Good     F     VS1  1243.0\n",
              "4       0.30      Ideal     G    VVS1   789.0\n",
              "...      ...        ...   ...     ...     ...\n",
              "49995   0.71      Ideal     H    VVS1  2918.0\n",
              "49996   0.43      Ideal     G    VVS2  1056.0\n",
              "49997   1.14    Premium     G     VS2  6619.0\n",
              "49998   1.01    Premium     E     VS2  6787.0\n",
              "49999   1.77    Premium     J     VS2  9428.0\n",
              "\n",
              "[50000 rows x 5 columns]"
            ],
            "text/html": [
              "\n",
              "  <div id=\"df-f2ffaaf5-00a2-4979-8002-92f397a784ce\">\n",
              "    <div class=\"colab-df-container\">\n",
              "      <div>\n",
              "<style scoped>\n",
              "    .dataframe tbody tr th:only-of-type {\n",
              "        vertical-align: middle;\n",
              "    }\n",
              "\n",
              "    .dataframe tbody tr th {\n",
              "        vertical-align: top;\n",
              "    }\n",
              "\n",
              "    .dataframe thead th {\n",
              "        text-align: right;\n",
              "    }\n",
              "</style>\n",
              "<table border=\"1\" class=\"dataframe\">\n",
              "  <thead>\n",
              "    <tr style=\"text-align: right;\">\n",
              "      <th></th>\n",
              "      <th>carat</th>\n",
              "      <th>cut</th>\n",
              "      <th>color</th>\n",
              "      <th>clarity</th>\n",
              "      <th>price</th>\n",
              "    </tr>\n",
              "  </thead>\n",
              "  <tbody>\n",
              "    <tr>\n",
              "      <th>0</th>\n",
              "      <td>0.51</td>\n",
              "      <td>Premium</td>\n",
              "      <td>F</td>\n",
              "      <td>VS1</td>\n",
              "      <td>1749.0</td>\n",
              "    </tr>\n",
              "    <tr>\n",
              "      <th>1</th>\n",
              "      <td>2.25</td>\n",
              "      <td>Fair</td>\n",
              "      <td>G</td>\n",
              "      <td>I1</td>\n",
              "      <td>7069.0</td>\n",
              "    </tr>\n",
              "    <tr>\n",
              "      <th>2</th>\n",
              "      <td>0.70</td>\n",
              "      <td>Very Good</td>\n",
              "      <td>E</td>\n",
              "      <td>VS2</td>\n",
              "      <td>2757.0</td>\n",
              "    </tr>\n",
              "    <tr>\n",
              "      <th>3</th>\n",
              "      <td>0.47</td>\n",
              "      <td>Good</td>\n",
              "      <td>F</td>\n",
              "      <td>VS1</td>\n",
              "      <td>1243.0</td>\n",
              "    </tr>\n",
              "    <tr>\n",
              "      <th>4</th>\n",
              "      <td>0.30</td>\n",
              "      <td>Ideal</td>\n",
              "      <td>G</td>\n",
              "      <td>VVS1</td>\n",
              "      <td>789.0</td>\n",
              "    </tr>\n",
              "    <tr>\n",
              "      <th>...</th>\n",
              "      <td>...</td>\n",
              "      <td>...</td>\n",
              "      <td>...</td>\n",
              "      <td>...</td>\n",
              "      <td>...</td>\n",
              "    </tr>\n",
              "    <tr>\n",
              "      <th>49995</th>\n",
              "      <td>0.71</td>\n",
              "      <td>Ideal</td>\n",
              "      <td>H</td>\n",
              "      <td>VVS1</td>\n",
              "      <td>2918.0</td>\n",
              "    </tr>\n",
              "    <tr>\n",
              "      <th>49996</th>\n",
              "      <td>0.43</td>\n",
              "      <td>Ideal</td>\n",
              "      <td>G</td>\n",
              "      <td>VVS2</td>\n",
              "      <td>1056.0</td>\n",
              "    </tr>\n",
              "    <tr>\n",
              "      <th>49997</th>\n",
              "      <td>1.14</td>\n",
              "      <td>Premium</td>\n",
              "      <td>G</td>\n",
              "      <td>VS2</td>\n",
              "      <td>6619.0</td>\n",
              "    </tr>\n",
              "    <tr>\n",
              "      <th>49998</th>\n",
              "      <td>1.01</td>\n",
              "      <td>Premium</td>\n",
              "      <td>E</td>\n",
              "      <td>VS2</td>\n",
              "      <td>6787.0</td>\n",
              "    </tr>\n",
              "    <tr>\n",
              "      <th>49999</th>\n",
              "      <td>1.77</td>\n",
              "      <td>Premium</td>\n",
              "      <td>J</td>\n",
              "      <td>VS2</td>\n",
              "      <td>9428.0</td>\n",
              "    </tr>\n",
              "  </tbody>\n",
              "</table>\n",
              "<p>50000 rows × 5 columns</p>\n",
              "</div>\n",
              "      <button class=\"colab-df-convert\" onclick=\"convertToInteractive('df-f2ffaaf5-00a2-4979-8002-92f397a784ce')\"\n",
              "              title=\"Convert this dataframe to an interactive table.\"\n",
              "              style=\"display:none;\">\n",
              "        \n",
              "  <svg xmlns=\"http://www.w3.org/2000/svg\" height=\"24px\"viewBox=\"0 0 24 24\"\n",
              "       width=\"24px\">\n",
              "    <path d=\"M0 0h24v24H0V0z\" fill=\"none\"/>\n",
              "    <path d=\"M18.56 5.44l.94 2.06.94-2.06 2.06-.94-2.06-.94-.94-2.06-.94 2.06-2.06.94zm-11 1L8.5 8.5l.94-2.06 2.06-.94-2.06-.94L8.5 2.5l-.94 2.06-2.06.94zm10 10l.94 2.06.94-2.06 2.06-.94-2.06-.94-.94-2.06-.94 2.06-2.06.94z\"/><path d=\"M17.41 7.96l-1.37-1.37c-.4-.4-.92-.59-1.43-.59-.52 0-1.04.2-1.43.59L10.3 9.45l-7.72 7.72c-.78.78-.78 2.05 0 2.83L4 21.41c.39.39.9.59 1.41.59.51 0 1.02-.2 1.41-.59l7.78-7.78 2.81-2.81c.8-.78.8-2.07 0-2.86zM5.41 20L4 18.59l7.72-7.72 1.47 1.35L5.41 20z\"/>\n",
              "  </svg>\n",
              "      </button>\n",
              "      \n",
              "  <style>\n",
              "    .colab-df-container {\n",
              "      display:flex;\n",
              "      flex-wrap:wrap;\n",
              "      gap: 12px;\n",
              "    }\n",
              "\n",
              "    .colab-df-convert {\n",
              "      background-color: #E8F0FE;\n",
              "      border: none;\n",
              "      border-radius: 50%;\n",
              "      cursor: pointer;\n",
              "      display: none;\n",
              "      fill: #1967D2;\n",
              "      height: 32px;\n",
              "      padding: 0 0 0 0;\n",
              "      width: 32px;\n",
              "    }\n",
              "\n",
              "    .colab-df-convert:hover {\n",
              "      background-color: #E2EBFA;\n",
              "      box-shadow: 0px 1px 2px rgba(60, 64, 67, 0.3), 0px 1px 3px 1px rgba(60, 64, 67, 0.15);\n",
              "      fill: #174EA6;\n",
              "    }\n",
              "\n",
              "    [theme=dark] .colab-df-convert {\n",
              "      background-color: #3B4455;\n",
              "      fill: #D2E3FC;\n",
              "    }\n",
              "\n",
              "    [theme=dark] .colab-df-convert:hover {\n",
              "      background-color: #434B5C;\n",
              "      box-shadow: 0px 1px 3px 1px rgba(0, 0, 0, 0.15);\n",
              "      filter: drop-shadow(0px 1px 2px rgba(0, 0, 0, 0.3));\n",
              "      fill: #FFFFFF;\n",
              "    }\n",
              "  </style>\n",
              "\n",
              "      <script>\n",
              "        const buttonEl =\n",
              "          document.querySelector('#df-f2ffaaf5-00a2-4979-8002-92f397a784ce button.colab-df-convert');\n",
              "        buttonEl.style.display =\n",
              "          google.colab.kernel.accessAllowed ? 'block' : 'none';\n",
              "\n",
              "        async function convertToInteractive(key) {\n",
              "          const element = document.querySelector('#df-f2ffaaf5-00a2-4979-8002-92f397a784ce');\n",
              "          const dataTable =\n",
              "            await google.colab.kernel.invokeFunction('convertToInteractive',\n",
              "                                                     [key], {});\n",
              "          if (!dataTable) return;\n",
              "\n",
              "          const docLinkHtml = 'Like what you see? Visit the ' +\n",
              "            '<a target=\"_blank\" href=https://colab.research.google.com/notebooks/data_table.ipynb>data table notebook</a>'\n",
              "            + ' to learn more about interactive tables.';\n",
              "          element.innerHTML = '';\n",
              "          dataTable['output_type'] = 'display_data';\n",
              "          await google.colab.output.renderOutput(dataTable, element);\n",
              "          const docLink = document.createElement('div');\n",
              "          docLink.innerHTML = docLinkHtml;\n",
              "          element.appendChild(docLink);\n",
              "        }\n",
              "      </script>\n",
              "    </div>\n",
              "  </div>\n",
              "  "
            ]
          },
          "metadata": {},
          "execution_count": 2
        }
      ]
    },
    {
      "cell_type": "code",
      "source": [
        "# Checking if there are any empty values in the dataframe. If there are, delete their rows from the dataframe. Also, resetting the dataframe indexes\n",
        "\n",
        "data.dropna(inplace = True)\n",
        "data.reset_index(drop = True, inplace = True)"
      ],
      "metadata": {
        "id": "XXZSP1Dt_5WB"
      },
      "execution_count": 3,
      "outputs": []
    },
    {
      "cell_type": "code",
      "source": [
        "# Checking to see if any empty values remaining after the deletion\n",
        "\n",
        "print(data.isna().sum())"
      ],
      "metadata": {
        "colab": {
          "base_uri": "https://localhost:8080/"
        },
        "id": "waqzJaciCdax",
        "outputId": "39de6652-af64-435a-f721-4a8e28212346"
      },
      "execution_count": 4,
      "outputs": [
        {
          "output_type": "stream",
          "name": "stdout",
          "text": [
            "carat      0\n",
            "cut        0\n",
            "color      0\n",
            "clarity    0\n",
            "price      0\n",
            "dtype: int64\n"
          ]
        }
      ]
    },
    {
      "cell_type": "code",
      "source": [
        "# Describing the data. Some value will give output 'NaN' because these columns don't include numerical values inside them.\n",
        "\n",
        "data.describe(include='all').transpose()"
      ],
      "metadata": {
        "colab": {
          "base_uri": "https://localhost:8080/",
          "height": 206
        },
        "id": "J72rMHlzAnoP",
        "outputId": "bf290999-6e51-4213-eb46-629bef8c8f6d"
      },
      "execution_count": 5,
      "outputs": [
        {
          "output_type": "execute_result",
          "data": {
            "text/plain": [
              "           count unique    top   freq            mean               std  \\\n",
              "carat    49991.0    NaN    NaN    NaN        0.798603          0.474665   \n",
              "cut        49991      5  Ideal  19976             NaN               NaN   \n",
              "color      49991      7      G  10445             NaN               NaN   \n",
              "clarity    49991      8    SI1  12095             NaN               NaN   \n",
              "price    49991.0    NaN    NaN    NaN  1672239.427177  373009693.434912   \n",
              "\n",
              "           min    25%     50%     75%            max  \n",
              "carat      0.2    0.4     0.7    1.04           5.01  \n",
              "cut        NaN    NaN     NaN     NaN            NaN  \n",
              "color      NaN    NaN     NaN     NaN            NaN  \n",
              "clarity    NaN    NaN     NaN     NaN            NaN  \n",
              "price    326.0  948.0  2403.0  5330.5  83400000000.0  "
            ],
            "text/html": [
              "\n",
              "  <div id=\"df-6c0b4d0f-cb27-4d05-b720-1a141c8c92c0\">\n",
              "    <div class=\"colab-df-container\">\n",
              "      <div>\n",
              "<style scoped>\n",
              "    .dataframe tbody tr th:only-of-type {\n",
              "        vertical-align: middle;\n",
              "    }\n",
              "\n",
              "    .dataframe tbody tr th {\n",
              "        vertical-align: top;\n",
              "    }\n",
              "\n",
              "    .dataframe thead th {\n",
              "        text-align: right;\n",
              "    }\n",
              "</style>\n",
              "<table border=\"1\" class=\"dataframe\">\n",
              "  <thead>\n",
              "    <tr style=\"text-align: right;\">\n",
              "      <th></th>\n",
              "      <th>count</th>\n",
              "      <th>unique</th>\n",
              "      <th>top</th>\n",
              "      <th>freq</th>\n",
              "      <th>mean</th>\n",
              "      <th>std</th>\n",
              "      <th>min</th>\n",
              "      <th>25%</th>\n",
              "      <th>50%</th>\n",
              "      <th>75%</th>\n",
              "      <th>max</th>\n",
              "    </tr>\n",
              "  </thead>\n",
              "  <tbody>\n",
              "    <tr>\n",
              "      <th>carat</th>\n",
              "      <td>49991.0</td>\n",
              "      <td>NaN</td>\n",
              "      <td>NaN</td>\n",
              "      <td>NaN</td>\n",
              "      <td>0.798603</td>\n",
              "      <td>0.474665</td>\n",
              "      <td>0.2</td>\n",
              "      <td>0.4</td>\n",
              "      <td>0.7</td>\n",
              "      <td>1.04</td>\n",
              "      <td>5.01</td>\n",
              "    </tr>\n",
              "    <tr>\n",
              "      <th>cut</th>\n",
              "      <td>49991</td>\n",
              "      <td>5</td>\n",
              "      <td>Ideal</td>\n",
              "      <td>19976</td>\n",
              "      <td>NaN</td>\n",
              "      <td>NaN</td>\n",
              "      <td>NaN</td>\n",
              "      <td>NaN</td>\n",
              "      <td>NaN</td>\n",
              "      <td>NaN</td>\n",
              "      <td>NaN</td>\n",
              "    </tr>\n",
              "    <tr>\n",
              "      <th>color</th>\n",
              "      <td>49991</td>\n",
              "      <td>7</td>\n",
              "      <td>G</td>\n",
              "      <td>10445</td>\n",
              "      <td>NaN</td>\n",
              "      <td>NaN</td>\n",
              "      <td>NaN</td>\n",
              "      <td>NaN</td>\n",
              "      <td>NaN</td>\n",
              "      <td>NaN</td>\n",
              "      <td>NaN</td>\n",
              "    </tr>\n",
              "    <tr>\n",
              "      <th>clarity</th>\n",
              "      <td>49991</td>\n",
              "      <td>8</td>\n",
              "      <td>SI1</td>\n",
              "      <td>12095</td>\n",
              "      <td>NaN</td>\n",
              "      <td>NaN</td>\n",
              "      <td>NaN</td>\n",
              "      <td>NaN</td>\n",
              "      <td>NaN</td>\n",
              "      <td>NaN</td>\n",
              "      <td>NaN</td>\n",
              "    </tr>\n",
              "    <tr>\n",
              "      <th>price</th>\n",
              "      <td>49991.0</td>\n",
              "      <td>NaN</td>\n",
              "      <td>NaN</td>\n",
              "      <td>NaN</td>\n",
              "      <td>1672239.427177</td>\n",
              "      <td>373009693.434912</td>\n",
              "      <td>326.0</td>\n",
              "      <td>948.0</td>\n",
              "      <td>2403.0</td>\n",
              "      <td>5330.5</td>\n",
              "      <td>83400000000.0</td>\n",
              "    </tr>\n",
              "  </tbody>\n",
              "</table>\n",
              "</div>\n",
              "      <button class=\"colab-df-convert\" onclick=\"convertToInteractive('df-6c0b4d0f-cb27-4d05-b720-1a141c8c92c0')\"\n",
              "              title=\"Convert this dataframe to an interactive table.\"\n",
              "              style=\"display:none;\">\n",
              "        \n",
              "  <svg xmlns=\"http://www.w3.org/2000/svg\" height=\"24px\"viewBox=\"0 0 24 24\"\n",
              "       width=\"24px\">\n",
              "    <path d=\"M0 0h24v24H0V0z\" fill=\"none\"/>\n",
              "    <path d=\"M18.56 5.44l.94 2.06.94-2.06 2.06-.94-2.06-.94-.94-2.06-.94 2.06-2.06.94zm-11 1L8.5 8.5l.94-2.06 2.06-.94-2.06-.94L8.5 2.5l-.94 2.06-2.06.94zm10 10l.94 2.06.94-2.06 2.06-.94-2.06-.94-.94-2.06-.94 2.06-2.06.94z\"/><path d=\"M17.41 7.96l-1.37-1.37c-.4-.4-.92-.59-1.43-.59-.52 0-1.04.2-1.43.59L10.3 9.45l-7.72 7.72c-.78.78-.78 2.05 0 2.83L4 21.41c.39.39.9.59 1.41.59.51 0 1.02-.2 1.41-.59l7.78-7.78 2.81-2.81c.8-.78.8-2.07 0-2.86zM5.41 20L4 18.59l7.72-7.72 1.47 1.35L5.41 20z\"/>\n",
              "  </svg>\n",
              "      </button>\n",
              "      \n",
              "  <style>\n",
              "    .colab-df-container {\n",
              "      display:flex;\n",
              "      flex-wrap:wrap;\n",
              "      gap: 12px;\n",
              "    }\n",
              "\n",
              "    .colab-df-convert {\n",
              "      background-color: #E8F0FE;\n",
              "      border: none;\n",
              "      border-radius: 50%;\n",
              "      cursor: pointer;\n",
              "      display: none;\n",
              "      fill: #1967D2;\n",
              "      height: 32px;\n",
              "      padding: 0 0 0 0;\n",
              "      width: 32px;\n",
              "    }\n",
              "\n",
              "    .colab-df-convert:hover {\n",
              "      background-color: #E2EBFA;\n",
              "      box-shadow: 0px 1px 2px rgba(60, 64, 67, 0.3), 0px 1px 3px 1px rgba(60, 64, 67, 0.15);\n",
              "      fill: #174EA6;\n",
              "    }\n",
              "\n",
              "    [theme=dark] .colab-df-convert {\n",
              "      background-color: #3B4455;\n",
              "      fill: #D2E3FC;\n",
              "    }\n",
              "\n",
              "    [theme=dark] .colab-df-convert:hover {\n",
              "      background-color: #434B5C;\n",
              "      box-shadow: 0px 1px 3px 1px rgba(0, 0, 0, 0.15);\n",
              "      filter: drop-shadow(0px 1px 2px rgba(0, 0, 0, 0.3));\n",
              "      fill: #FFFFFF;\n",
              "    }\n",
              "  </style>\n",
              "\n",
              "      <script>\n",
              "        const buttonEl =\n",
              "          document.querySelector('#df-6c0b4d0f-cb27-4d05-b720-1a141c8c92c0 button.colab-df-convert');\n",
              "        buttonEl.style.display =\n",
              "          google.colab.kernel.accessAllowed ? 'block' : 'none';\n",
              "\n",
              "        async function convertToInteractive(key) {\n",
              "          const element = document.querySelector('#df-6c0b4d0f-cb27-4d05-b720-1a141c8c92c0');\n",
              "          const dataTable =\n",
              "            await google.colab.kernel.invokeFunction('convertToInteractive',\n",
              "                                                     [key], {});\n",
              "          if (!dataTable) return;\n",
              "\n",
              "          const docLinkHtml = 'Like what you see? Visit the ' +\n",
              "            '<a target=\"_blank\" href=https://colab.research.google.com/notebooks/data_table.ipynb>data table notebook</a>'\n",
              "            + ' to learn more about interactive tables.';\n",
              "          element.innerHTML = '';\n",
              "          dataTable['output_type'] = 'display_data';\n",
              "          await google.colab.output.renderOutput(dataTable, element);\n",
              "          const docLink = document.createElement('div');\n",
              "          docLink.innerHTML = docLinkHtml;\n",
              "          element.appendChild(docLink);\n",
              "        }\n",
              "      </script>\n",
              "    </div>\n",
              "  </div>\n",
              "  "
            ]
          },
          "metadata": {},
          "execution_count": 5
        }
      ]
    },
    {
      "cell_type": "code",
      "source": [
        "# Checking to see how many specific values exist in the each feature\n",
        "\n",
        "print(f\"Carats: {len(data['carat'].unique())}\")\n",
        "print(f\"Cuts: {len(data['cut'].unique())}\")\n",
        "print(f\"Colors: {len(data['color'].unique())}\")\n",
        "print(f\"Clarities: {len(data['clarity'].unique())}\")"
      ],
      "metadata": {
        "colab": {
          "base_uri": "https://localhost:8080/"
        },
        "id": "AjhqWeDxAs14",
        "outputId": "1cea037d-ccef-4f93-cd65-d5fe22658a31"
      },
      "execution_count": 6,
      "outputs": [
        {
          "output_type": "stream",
          "name": "stdout",
          "text": [
            "Carats: 272\n",
            "Cuts: 5\n",
            "Colors: 7\n",
            "Clarities: 8\n"
          ]
        }
      ]
    },
    {
      "cell_type": "code",
      "source": [
        "# Encoding the textual data to represent each text as a number to make possible our linear regression operation\n",
        "\n",
        "encoder = LabelEncoder()\n",
        "\n",
        "data['cut'] = encoder.fit_transform(data['cut'])\n",
        "cut_mappings = {index: label for index,label in enumerate(encoder.classes_)}\n",
        "\n",
        "data['color'] = encoder.fit_transform(data['color'])\n",
        "color_mappings = {index: label for index,label in enumerate(encoder.classes_)}\n",
        "\n",
        "data['clarity'] = encoder.fit_transform(data['clarity'])\n",
        "clarity_mappings = {index: label for index,label in enumerate(encoder.classes_)}"
      ],
      "metadata": {
        "id": "2aptac9oXINa"
      },
      "execution_count": 7,
      "outputs": []
    },
    {
      "cell_type": "code",
      "source": [
        "# Seeing each number representation for each encoded feature \n",
        "\n",
        "print(cut_mappings)\n",
        "print(color_mappings)\n",
        "print(clarity_mappings)"
      ],
      "metadata": {
        "colab": {
          "base_uri": "https://localhost:8080/"
        },
        "id": "DE0zZxtlYHr4",
        "outputId": "5000dbe6-078a-4e37-a661-3bbceeabb528"
      },
      "execution_count": 8,
      "outputs": [
        {
          "output_type": "stream",
          "name": "stdout",
          "text": [
            "{0: 'Fair', 1: 'Good', 2: 'Ideal', 3: 'Premium', 4: 'Very Good'}\n",
            "{0: 'D', 1: 'E', 2: 'F', 3: 'G', 4: 'H', 5: 'I', 6: 'J'}\n",
            "{0: 'I1', 1: 'IF', 2: 'SI1', 3: 'SI2', 4: 'VS1', 5: 'VS2', 6: 'VVS1', 7: 'VVS2'}\n"
          ]
        }
      ]
    },
    {
      "cell_type": "code",
      "source": [
        "data"
      ],
      "metadata": {
        "colab": {
          "base_uri": "https://localhost:8080/",
          "height": 423
        },
        "id": "5ctvzGn6YTHg",
        "outputId": "0ca35773-2dee-418f-ca79-c8b5a91183c9"
      },
      "execution_count": 9,
      "outputs": [
        {
          "output_type": "execute_result",
          "data": {
            "text/plain": [
              "       carat  cut  color  clarity   price\n",
              "0       0.51    3      2        4  1749.0\n",
              "1       2.25    0      3        0  7069.0\n",
              "2       0.70    4      1        5  2757.0\n",
              "3       0.47    1      2        4  1243.0\n",
              "4       0.30    2      3        6   789.0\n",
              "...      ...  ...    ...      ...     ...\n",
              "49986   0.71    2      4        6  2918.0\n",
              "49987   0.43    2      3        7  1056.0\n",
              "49988   1.14    3      3        5  6619.0\n",
              "49989   1.01    3      1        5  6787.0\n",
              "49990   1.77    3      6        5  9428.0\n",
              "\n",
              "[49991 rows x 5 columns]"
            ],
            "text/html": [
              "\n",
              "  <div id=\"df-353ce87c-813b-4c98-90ae-f8ff63793781\">\n",
              "    <div class=\"colab-df-container\">\n",
              "      <div>\n",
              "<style scoped>\n",
              "    .dataframe tbody tr th:only-of-type {\n",
              "        vertical-align: middle;\n",
              "    }\n",
              "\n",
              "    .dataframe tbody tr th {\n",
              "        vertical-align: top;\n",
              "    }\n",
              "\n",
              "    .dataframe thead th {\n",
              "        text-align: right;\n",
              "    }\n",
              "</style>\n",
              "<table border=\"1\" class=\"dataframe\">\n",
              "  <thead>\n",
              "    <tr style=\"text-align: right;\">\n",
              "      <th></th>\n",
              "      <th>carat</th>\n",
              "      <th>cut</th>\n",
              "      <th>color</th>\n",
              "      <th>clarity</th>\n",
              "      <th>price</th>\n",
              "    </tr>\n",
              "  </thead>\n",
              "  <tbody>\n",
              "    <tr>\n",
              "      <th>0</th>\n",
              "      <td>0.51</td>\n",
              "      <td>3</td>\n",
              "      <td>2</td>\n",
              "      <td>4</td>\n",
              "      <td>1749.0</td>\n",
              "    </tr>\n",
              "    <tr>\n",
              "      <th>1</th>\n",
              "      <td>2.25</td>\n",
              "      <td>0</td>\n",
              "      <td>3</td>\n",
              "      <td>0</td>\n",
              "      <td>7069.0</td>\n",
              "    </tr>\n",
              "    <tr>\n",
              "      <th>2</th>\n",
              "      <td>0.70</td>\n",
              "      <td>4</td>\n",
              "      <td>1</td>\n",
              "      <td>5</td>\n",
              "      <td>2757.0</td>\n",
              "    </tr>\n",
              "    <tr>\n",
              "      <th>3</th>\n",
              "      <td>0.47</td>\n",
              "      <td>1</td>\n",
              "      <td>2</td>\n",
              "      <td>4</td>\n",
              "      <td>1243.0</td>\n",
              "    </tr>\n",
              "    <tr>\n",
              "      <th>4</th>\n",
              "      <td>0.30</td>\n",
              "      <td>2</td>\n",
              "      <td>3</td>\n",
              "      <td>6</td>\n",
              "      <td>789.0</td>\n",
              "    </tr>\n",
              "    <tr>\n",
              "      <th>...</th>\n",
              "      <td>...</td>\n",
              "      <td>...</td>\n",
              "      <td>...</td>\n",
              "      <td>...</td>\n",
              "      <td>...</td>\n",
              "    </tr>\n",
              "    <tr>\n",
              "      <th>49986</th>\n",
              "      <td>0.71</td>\n",
              "      <td>2</td>\n",
              "      <td>4</td>\n",
              "      <td>6</td>\n",
              "      <td>2918.0</td>\n",
              "    </tr>\n",
              "    <tr>\n",
              "      <th>49987</th>\n",
              "      <td>0.43</td>\n",
              "      <td>2</td>\n",
              "      <td>3</td>\n",
              "      <td>7</td>\n",
              "      <td>1056.0</td>\n",
              "    </tr>\n",
              "    <tr>\n",
              "      <th>49988</th>\n",
              "      <td>1.14</td>\n",
              "      <td>3</td>\n",
              "      <td>3</td>\n",
              "      <td>5</td>\n",
              "      <td>6619.0</td>\n",
              "    </tr>\n",
              "    <tr>\n",
              "      <th>49989</th>\n",
              "      <td>1.01</td>\n",
              "      <td>3</td>\n",
              "      <td>1</td>\n",
              "      <td>5</td>\n",
              "      <td>6787.0</td>\n",
              "    </tr>\n",
              "    <tr>\n",
              "      <th>49990</th>\n",
              "      <td>1.77</td>\n",
              "      <td>3</td>\n",
              "      <td>6</td>\n",
              "      <td>5</td>\n",
              "      <td>9428.0</td>\n",
              "    </tr>\n",
              "  </tbody>\n",
              "</table>\n",
              "<p>49991 rows × 5 columns</p>\n",
              "</div>\n",
              "      <button class=\"colab-df-convert\" onclick=\"convertToInteractive('df-353ce87c-813b-4c98-90ae-f8ff63793781')\"\n",
              "              title=\"Convert this dataframe to an interactive table.\"\n",
              "              style=\"display:none;\">\n",
              "        \n",
              "  <svg xmlns=\"http://www.w3.org/2000/svg\" height=\"24px\"viewBox=\"0 0 24 24\"\n",
              "       width=\"24px\">\n",
              "    <path d=\"M0 0h24v24H0V0z\" fill=\"none\"/>\n",
              "    <path d=\"M18.56 5.44l.94 2.06.94-2.06 2.06-.94-2.06-.94-.94-2.06-.94 2.06-2.06.94zm-11 1L8.5 8.5l.94-2.06 2.06-.94-2.06-.94L8.5 2.5l-.94 2.06-2.06.94zm10 10l.94 2.06.94-2.06 2.06-.94-2.06-.94-.94-2.06-.94 2.06-2.06.94z\"/><path d=\"M17.41 7.96l-1.37-1.37c-.4-.4-.92-.59-1.43-.59-.52 0-1.04.2-1.43.59L10.3 9.45l-7.72 7.72c-.78.78-.78 2.05 0 2.83L4 21.41c.39.39.9.59 1.41.59.51 0 1.02-.2 1.41-.59l7.78-7.78 2.81-2.81c.8-.78.8-2.07 0-2.86zM5.41 20L4 18.59l7.72-7.72 1.47 1.35L5.41 20z\"/>\n",
              "  </svg>\n",
              "      </button>\n",
              "      \n",
              "  <style>\n",
              "    .colab-df-container {\n",
              "      display:flex;\n",
              "      flex-wrap:wrap;\n",
              "      gap: 12px;\n",
              "    }\n",
              "\n",
              "    .colab-df-convert {\n",
              "      background-color: #E8F0FE;\n",
              "      border: none;\n",
              "      border-radius: 50%;\n",
              "      cursor: pointer;\n",
              "      display: none;\n",
              "      fill: #1967D2;\n",
              "      height: 32px;\n",
              "      padding: 0 0 0 0;\n",
              "      width: 32px;\n",
              "    }\n",
              "\n",
              "    .colab-df-convert:hover {\n",
              "      background-color: #E2EBFA;\n",
              "      box-shadow: 0px 1px 2px rgba(60, 64, 67, 0.3), 0px 1px 3px 1px rgba(60, 64, 67, 0.15);\n",
              "      fill: #174EA6;\n",
              "    }\n",
              "\n",
              "    [theme=dark] .colab-df-convert {\n",
              "      background-color: #3B4455;\n",
              "      fill: #D2E3FC;\n",
              "    }\n",
              "\n",
              "    [theme=dark] .colab-df-convert:hover {\n",
              "      background-color: #434B5C;\n",
              "      box-shadow: 0px 1px 3px 1px rgba(0, 0, 0, 0.15);\n",
              "      filter: drop-shadow(0px 1px 2px rgba(0, 0, 0, 0.3));\n",
              "      fill: #FFFFFF;\n",
              "    }\n",
              "  </style>\n",
              "\n",
              "      <script>\n",
              "        const buttonEl =\n",
              "          document.querySelector('#df-353ce87c-813b-4c98-90ae-f8ff63793781 button.colab-df-convert');\n",
              "        buttonEl.style.display =\n",
              "          google.colab.kernel.accessAllowed ? 'block' : 'none';\n",
              "\n",
              "        async function convertToInteractive(key) {\n",
              "          const element = document.querySelector('#df-353ce87c-813b-4c98-90ae-f8ff63793781');\n",
              "          const dataTable =\n",
              "            await google.colab.kernel.invokeFunction('convertToInteractive',\n",
              "                                                     [key], {});\n",
              "          if (!dataTable) return;\n",
              "\n",
              "          const docLinkHtml = 'Like what you see? Visit the ' +\n",
              "            '<a target=\"_blank\" href=https://colab.research.google.com/notebooks/data_table.ipynb>data table notebook</a>'\n",
              "            + ' to learn more about interactive tables.';\n",
              "          element.innerHTML = '';\n",
              "          dataTable['output_type'] = 'display_data';\n",
              "          await google.colab.output.renderOutput(dataTable, element);\n",
              "          const docLink = document.createElement('div');\n",
              "          docLink.innerHTML = docLinkHtml;\n",
              "          element.appendChild(docLink);\n",
              "        }\n",
              "      </script>\n",
              "    </div>\n",
              "  </div>\n",
              "  "
            ]
          },
          "metadata": {},
          "execution_count": 9
        }
      ]
    },
    {
      "cell_type": "code",
      "source": [
        "# Defining a method to plot the data distribution for each feature\n",
        "\n",
        "def plot_boxplot(dataframe, feature):\n",
        "  dataframe.boxplot(column = [feature])\n",
        "  plt.grid(False)\n",
        "  plt.show()"
      ],
      "metadata": {
        "id": "LArL-IeuWN8p"
      },
      "execution_count": 10,
      "outputs": []
    },
    {
      "cell_type": "code",
      "source": [
        "plot_boxplot(data, 'carat')"
      ],
      "metadata": {
        "colab": {
          "base_uri": "https://localhost:8080/",
          "height": 265
        },
        "id": "S1kjFFZHX9SM",
        "outputId": "32424791-f613-49ce-9664-b18be5b5c21d"
      },
      "execution_count": 11,
      "outputs": [
        {
          "output_type": "display_data",
          "data": {
            "text/plain": [
              "<Figure size 432x288 with 1 Axes>"
            ],
            "image/png": "[encoded data removed]"
          },
          "metadata": {
            "needs_background": "light"
          }
        }
      ]
    },
    {
      "cell_type": "code",
      "source": [
        "plot_boxplot(data, 'cut')"
      ],
      "metadata": {
        "id": "SSSDsPSGDGMQ",
        "colab": {
          "base_uri": "https://localhost:8080/",
          "height": 265
        },
        "outputId": "19caa988-ac79-47b1-c4ac-298a997eaac3"
      },
      "execution_count": 12,
      "outputs": [
        {
          "output_type": "display_data",
          "data": {
            "text/plain": [
              "<Figure size 432x288 with 1 Axes>"
            ],
            "image/png": "[encoded data removed]"
          },
          "metadata": {
            "needs_background": "light"
          }
        }
      ]
    },
    {
      "cell_type": "code",
      "source": [
        "plot_boxplot(data, 'color')"
      ],
      "metadata": {
        "colab": {
          "base_uri": "https://localhost:8080/",
          "height": 265
        },
        "id": "z06riS_jX5wq",
        "outputId": "272da1ec-e8c9-4929-f459-66b5a518f833"
      },
      "execution_count": 13,
      "outputs": [
        {
          "output_type": "display_data",
          "data": {
            "text/plain": [
              "<Figure size 432x288 with 1 Axes>"
            ],
            "image/png": "[encoded data removed]"
          },
          "metadata": {
            "needs_background": "light"
          }
        }
      ]
    },
    {
      "cell_type": "code",
      "source": [
        "plot_boxplot(data, 'clarity')"
      ],
      "metadata": {
        "colab": {
          "base_uri": "https://localhost:8080/",
          "height": 265
        },
        "id": "SXoaPRhKX7T3",
        "outputId": "12c07a45-c39d-44a8-dcc4-033f805c43ce"
      },
      "execution_count": 14,
      "outputs": [
        {
          "output_type": "display_data",
          "data": {
            "text/plain": [
              "<Figure size 432x288 with 1 Axes>"
            ],
            "image/png": "[encoded data removed]"
          },
          "metadata": {
            "needs_background": "light"
          }
        }
      ]
    },
    {
      "cell_type": "code",
      "source": [
        "plot_boxplot(data, 'price')"
      ],
      "metadata": {
        "colab": {
          "base_uri": "https://localhost:8080/",
          "height": 276
        },
        "id": "wZvGZ1yij7_a",
        "outputId": "cd8e2bf3-4e8c-4f33-e20c-52b2b5567585"
      },
      "execution_count": 15,
      "outputs": [
        {
          "output_type": "display_data",
          "data": {
            "text/plain": [
              "<Figure size 432x288 with 1 Axes>"
            ],
            "image/png": "[encoded data removed]"
          },
          "metadata": {
            "needs_background": "light"
          }
        }
      ]
    },
    {
      "cell_type": "code",
      "source": [
        "# Defining a method to use IQR outlier cleaning method\n",
        "\n",
        "def outliers(dataframe, feature):\n",
        "  Q1 = dataframe[feature].quantile(0.25)\n",
        "  Q3 = dataframe[feature].quantile(0.75)\n",
        "  IQR = Q3 - Q1\n",
        "\n",
        "  lower_bound = Q1 - 1.5 * IQR\n",
        "  upper_bound = Q3 + 1.5 * IQR\n",
        "\n",
        "  ls = dataframe.index[(dataframe[feature] < lower_bound) | (dataframe[feature] > upper_bound)]\n",
        "  return ls"
      ],
      "metadata": {
        "id": "PC7Z2XVHT-r2"
      },
      "execution_count": 16,
      "outputs": []
    },
    {
      "cell_type": "code",
      "source": [
        "# Looping on the data for each feature and detecting the outliers\n",
        "\n",
        "index_list = []\n",
        "\n",
        "for feature in ['carat', 'cut', 'color', 'clarity', 'price']:\n",
        "  index_list.extend(outliers(data, feature))\n",
        "\n",
        "print(len(index_list))\n",
        "print(index_list)"
      ],
      "metadata": {
        "colab": {
          "base_uri": "https://localhost:8080/"
        },
        "id": "EeA8Jhi_ZfvN",
        "outputId": "28d12c88-b9fe-4aab-b0e5-0c4afcbf893e"
      },
      "execution_count": 17,
      "outputs": [
        {
          "output_type": "stream",
          "name": "stdout",
          "text": [
            "6554\n",
            "[1, 6, 14, 83, 89, 146, 174, 175, 191, 213, 336, 397, 433, 446, 460, 472, 527, 533, 564, 591, 596, 601, 605, 634, 661, 669, 719, 725, 767, 839, 847, 850, 853, 894, 903, 919, 947, 965, 1094, 1116, 1157, 1205, 1264, 1337, 1340, 1380, 1409, 1485, 1503, 1526, 1565, 1588, 1601, 1642, 1655, 1688, 1720, 1757, 1769, 1812, 1822, 1885, 1910, 2063, 2114, 2139, 2143, 2152, 2197, 2294, 2307, 2356, 2388, 2437, 2469, 2485, 2558, 2581, 2639, 2651, 2699, 2717, 2757, 2764, 2810, 2828, 2880, 2898, 2899, 2929, 2937, 3145, 3158, 3190, 3193, 3202, 3236, 3246, 3270, 3280, 3281, 3285, 3289, 3298, 3312, 3358, 3407, 3433, 3445, 3463, 3464, 3466, 3503, 3504, 3516, 3520, 3535, 3566, 3597, 3604, 3606, 3645, 3673, 3675, 3716, 3724, 3764, 3787, 3790, 3810, 3813, 3821, 3829, 3847, 3865, 3877, 3892, 3903, 3957, 3964, 3969, 3979, 3994, 3998, 4026, 4067, 4074, 4136, 4157, 4168, 4191, 4209, 4234, 4237, 4277, 4291, 4323, 4332, 4343, 4365, 4366, 4424, 4480, 4515, 4522, 4527, 4599, 4639, 4649, 4719, 4722, 4733, 4774, 4875, 4882, 4926, 4976, 4989, 5003, 5038, 5042, 5086, 5122, 5139, 5140, 5146, 5158, 5162, 5164, 5199, 5202, 5219, 5234, 5237, 5252, 5305, 5336, 5394, 5408, 5415, 5421, 5443, 5524, 5541, 5558, 5629, 5633, 5655, 5691, 5720, 5755, 5783, 5822, 5849, 5894, 5904, 5921, 5948, 6029, 6117, 6179, 6203, 6207, 6215, 6251, 6298, 6314, 6330, 6347, 6384, 6446, 6487, 6538, 6546, 6550, 6629, 6631, 6642, 6691, 6713, 6750, 6826, 6857, 6891, 6912, 6948, 6996, 7089, 7092, 7209, 7215, 7219, 7262, 7358, 7376, 7381, 7401, 7499, 7556, 7578, 7627, 7661, 7739, 7765, 7772, 7776, 7789, 7811, 7872, 7874, 7997, 8004, 8212, 8221, 8223, 8281, 8283, 8305, 8318, 8326, 8381, 8386, 8423, 8429, 8442, 8463, 8466, 8524, 8570, 8577, 8643, 8653, 8684, 8690, 8698, 8735, 8763, 8829, 8874, 8945, 8984, 9034, 9040, 9055, 9067, 9153, 9228, 9253, 9268, 9358, 9363, 9367, 9383, 9469, 9490, 9494, 9521, 9533, 9570, 9595, 9683, 9706, 9736, 9790, 9848, 9860, 9873, 9876, 9884, 9904, 9930, 9985, 10004, 10012, 10019, 10038, 10177, 10206, 10207, 10220, 10238, 10300, 10305, 10315, 10317, 10366, 10382, 10397, 10405, 10410, 10417, 10418, 10424, 10441, 10448, 10465, 10487, 10491, 10534, 10608, 10614, 10639, 10645, 10659, 10744, 10800, 10832, 10861, 10865, 10866, 10868, 10870, 10890, 10918, 10921, 10941, 10968, 10975, 11048, 11049, 11072, 11122, 11143, 11179, 11197, 11242, 11271, 11323, 11327, 11338, 11385, 11431, 11432, 11449, 11453, 11503, 11591, 11602, 11630, 11701, 11703, 11704, 11748, 11768, 11844, 11856, 11915, 11948, 11981, 11984, 12009, 12047, 12170, 12229, 12259, 12262, 12295, 12362, 12408, 12457, 12468, 12483, 12503, 12514, 12540, 12563, 12577, 12583, 12627, 12723, 12820, 12834, 12849, 12874, 12881, 12886, 12897, 12906, 12970, 13013, 13048, 13099, 13146, 13152, 13171, 13176, 13177, 13178, 13184, 13196, 13203, 13208, 13233, 13236, 13241, 13263, 13299, 13303, 13361, 13364, 13399, 13531, 13536, 13547, 13576, 13611, 13621, 13716, 13748, 13766, 13783, 13788, 13812, 13821, 13862, 13883, 13975, 13983, 14063, 14066, 14102, 14117, 14119, 14148, 14166, 14172, 14198, 14237, 14268, 14290, 14291, 14327, 14379, 14411, 14418, 14423, 14424, 14487, 14532, 14535, 14536, 14562, 14569, 14620, 14673, 14686, 14733, 14775, 14805, 14828, 14839, 14850, 14868, 14900, 14908, 14945, 14969, 14982, 15051, 15069, 15088, 15233, 15291, 15302, 15311, 15319, 15357, 15384, 15386, 15434, 15535, 15600, 15606, 15607, 15611, 15635, 15664, 15675, 15685, 15710, 15713, 15718, 15779, 15785, 15818, 15842, 15877, 15878, 15905, 15923, 15978, 16018, 16033, 16050, 16103, 16133, 16141, 16170, 16188, 16233, 16235, 16272, 16311, 16322, 16404, 16417, 16424, 16465, 16494, 16497, 16499, 16532, 16559, 16638, 16650, 16674, 16675, 16787, 16845, 16870, 16871, 16872, 16918, 16982, 17041, 17062, 17111, 17150, 17198, 17210, 17232, 17249, 17290, 17297, 17315, 17323, 17333, 17340, 17342, 17365, 17400, 17418, 17426, 17458, 17471, 17507, 17514, 17519, 17543, 17560, 17578, 17642, 17644, 17712, 17866, 17892, 17906, 17957, 17972, 18035, 18072, 18081, 18114, 18187, 18202, 18214, 18217, 18218, 18235, 18237, 18260, 18261, 18275, 18277, 18296, 18367, 18393, 18400, 18409, 18410, 18435, 18477, 18487, 18506, 18512, 18563, 18573, 18661, 18662, 18711, 18825, 18840, 18892, 18923, 18957, 18996, 19035, 19111, 19131, 19176, 19202, 19214, 19234, 19266, 19277, 19282, 19314, 19350, 19375, 19380, 19504, 19521, 19526, 19624, 19655, 19657, 19667, 19697, 19747, 19767, 19777, 19846, 19883, 19891, 19901, 19991, 20010, 20094, 20103, 20186, 20204, 20212, 20243, 20251, 20307, 20318, 20336, 20387, 20447, 20456, 20469, 20479, 20492, 20524, 20551, 20575, 20604, 20637, 20654, 20682, 20688, 20692, 20709, 20717, 20733, 20745, 20760, 20771, 20801, 20924, 20934, 21001, 21106, 21145, 21162, 21166, 21170, 21174, 21185, 21267, 21273, 21302, 21305, 21307, 21314, 21324, 21326, 21428, 21458, 21568, 21586, 21596, 21625, 21706, 21707, 21764, 21801, 21840, 21873, 21915, 21916, 21936, 22031, 22048, 22067, 22108, 22110, 22143, 22155, 22174, 22181, 22197, 22233, 22256, 22261, 22283, 22297, 22319, 22327, 22359, 22391, 22451, 22456, 22479, 22492, 22494, 22499, 22503, 22561, 22564, 22573, 22594, 22623, 22635, 22637, 22643, 22666, 22669, 22671, 22695, 22710, 22732, 22782, 22802, 22956, 22960, 22971, 22990, 22994, 23039, 23092, 23109, 23125, 23139, 23185, 23232, 23251, 23288, 23298, 23356, 23362, 23391, 23458, 23475, 23515, 23519, 23524, 23531, 23555, 23562, 23609, 23625, 23643, 23679, 23705, 23759, 23769, 23787, 23791, 23812, 23815, 23859, 23901, 23966, 23982, 23988, 24028, 24112, 24115, 24161, 24167, 24184, 24186, 24221, 24237, 24251, 24263, 24278, 24289, 24321, 24329, 24342, 24349, 24364, 24376, 24383, 24437, 24484, 24486, 24488, 24508, 24530, 24617, 24654, 24669, 24727, 24732, 24757, 24776, 24788, 24792, 24817, 24828, 24851, 24870, 24889, 24900, 24916, 24917, 24919, 24959, 24960, 24972, 25004, 25016, 25027, 25036, 25046, 25050, 25059, 25066, 25070, 25081, 25138, 25146, 25160, 25162, 25239, 25256, 25272, 25328, 25356, 25382, 25384, 25400, 25408, 25447, 25493, 25543, 25557, 25561, 25574, 25671, 25675, 25691, 25698, 25707, 25725, 25727, 25776, 25778, 25784, 25789, 25793, 25883, 25951, 25959, 26036, 26067, 26069, 26078, 26082, 26111, 26137, 26174, 26182, 26257, 26292, 26322, 26393, 26504, 26527, 26576, 26613, 26628, 26630, 26657, 26662, 26709, 26723, 26759, 26761, 26781, 26849, 26865, 26887, 26899, 26935, 26955, 26956, 27024, 27103, 27105, 27119, 27129, 27131, 27201, 27220, 27236, 27304, 27322, 27324, 27338, 27384, 27451, 27460, 27469, 27475, 27478, 27515, 27550, 27575, 27591, 27596, 27642, 27684, 27716, 27720, 27729, 27736, 27766, 27784, 27823, 27835, 27850, 27941, 27968, 28053, 28074, 28173, 28183, 28193, 28201, 28231, 28245, 28275, 28397, 28415, 28417, 28425, 28481, 28483, 28517, 28545, 28547, 28550, 28601, 28606, 28607, 28631, 28644, 28648, 28651, 28658, 28667, 28671, 28690, 28693, 28698, 28705, 28725, 28757, 28784, 28798, 28813, 28817, 28832, 28838, 28869, 28892, 28909, 28967, 28989, 29009, 29036, 29049, 29056, 29063, 29080, 29148, 29155, 29244, 29247, 29262, 29293, 29352, 29367, 29368, 29374, 29487, 29528, 29579, 29651, 29661, 29666, 29676, 29725, 29731, 29755, 29776, 29795, 29810, 29860, 29946, 29981, 30011, 30017, 30035, 30038, 30039, 30179, 30201, 30213, 30237, 30245, 30259, 30264, 30276, 30419, 30428, 30438, 30480, 30544, 30562, 30570, 30590, 30615, 30709, 30732, 30734, 30744, 30768, 30773, 30791, 30797, 30833, 30865, 30916, 30927, 30947, 30952, 30959, 30970, 30980, 31017, 31021, 31035, 31046, 31047, 31054, 31058, 31070, 31072, 31083, 31084, 31085, 31245, 31268, 31407, 31418, 31422, 31451, 31455, 31457, 31462, 31485, 31567, 31587, 31617, 31646, 31665, 31685, 31790, 31824, 31828, 31911, 31912, 31974, 31994, 32047, 32096, 32113, 32141, 32159, 32197, 32199, 32204, 32211, 32227, 32348, 32356, 32370, 32374, 32397, 32471, 32501, 32506, 32542, 32574, 32580, 32587, 32596, 32605, 32743, 32747, 32753, 32763, 32796, 32829, 32832, 32833, 32893, 32933, 32992, 33006, 33028, 33040, 33134, 33209, 33210, 33226, 33228, 33229, 33236, 33238, 33264, 33291, 33294, 33311, 33337, 33393, 33411, 33432, 33479, 33488, 33506, 33517, 33522, 33541, 33608, 33656, 33681, 33685, 33695, 33701, 33733, 33742, 33767, 33775, 33802, 33933, 33960, 33974, 34014, 34068, 34078, 34160, 34192, 34204, 34296, 34315, 34357, 34364, 34369, 34389, 34398, 34409, 34436, 34439, 34442, 34505, 34530, 34539, 34541, 34547, 34598, 34662, 34684, 34779, 34814, 34815, 34835, 34869, 34877, 34881, 34884, 34905, 34910, 34927, 34999, 35013, 35119, 35152, 35160, 35210, 35224, 35255, 35270, 35375, 35397, 35415, 35433, 35434, 35438, 35484, 35517, 35524, 35527, 35548, 35576, 35619, 35622, 35627, 35655, 35680, 35683, 35684, 35705, 35743, 35756, 35859, 35868, 35872, 35947, 35952, 35971, 36094, 36096, 36105, 36116, 36119, 36194, 36247, 36290, 36300, 36302, 36316, 36321, 36326, 36327, 36335, 36337, 36351, 36389, 36395, 36433, 36437, 36447, 36452, 36492, 36501, 36510, 36604, 36633, 36729, 36750, 36756, 36769, 36773, 36875, 36960, 37081, 37104, 37122, 37133, 37192, 37201, 37223, 37238, 37357, 37400, 37406, 37420, 37448, 37458, 37486, 37494, 37521, 37536, 37596, 37689, 37716, 37733, 37738, 37763, 37767, 37779, 37793, 37809, 37862, 37877, 37959, 37969, 37994, 37997, 38002, 38022, 38051, 38057, 38058, 38067, 38108, 38309, 38388, 38409, 38480, 38509, 38530, 38546, 38582, 38609, 38657, 38690, 38703, 38779, 38792, 38815, 38841, 38937, 38945, 39018, 39043, 39064, 39096, 39143, 39146, 39203, 39207, 39219, 39236, 39382, 39413, 39462, 39499, 39503, 39580, 39587, 39598, 39603, 39720, 39746, 39748, 39885, 39889, 39899, 39901, 39979, 39997, 40021, 40034, 40069, 40095, 40127, 40139, 40155, 40169, 40204, 40225, 40254, 40320, 40326, 40349, 40373, 40429, 40430, 40431, 40505, 40507, 40523, 40639, 40695, 40752, 40753, 40769, 40834, 40835, 40879, 40929, 40964, 41007, 41036, 41048, 41057, 41065, 41088, 41117, 41131, 41211, 41212, 41239, 41243, 41259, 41261, 41306, 41323, 41330, 41335, 41396, 41434, 41456, 41457, 41493, 41502, 41503, 41568, 41572, 41661, 41667, 41744, 41816, 41818, 41853, 41899, 41903, 41910, 41933, 41939, 41941, 41943, 41955, 42004, 42018, 42029, 42103, 42128, 42144, 42150, 42168, 42192, 42198, 42201, 42249, 42252, 42279, 42356, 42380, 42433, 42450, 42487, 42494, 42583, 42599, 42640, 42655, 42697, 42786, 42872, 42881, 42883, 42924, 42935, 42940, 42971, 43077, 43108, 43130, 43158, 43200, 43236, 43268, 43283, 43313, 43381, 43461, 43476, 43478, 43490, 43497, 43504, 43518, 43530, 43684, 43730, 43733, 43746, 43748, 43797, 43802, 43814, 43823, 43860, 43929, 43997, 44016, 44017, 44024, 44053, 44054, 44172, 44221, 44279, 44370, 44392, 44412, 44497, 44510, 44529, 44575, 44577, 44590, 44647, 44653, 44741, 44742, 44760, 44784, 44857, 44870, 44899, 44990, 45037, 45070, 45072, 45103, 45114, 45153, 45155, 45162, 45175, 45180, 45232, 45244, 45263, 45274, 45315, 45331, 45344, 45345, 45374, 45400, 45424, 45529, 45571, 45592, 45613, 45630, 45672, 45691, 45751, 45768, 45781, 45794, 45803, 45834, 45835, 45841, 45905, 45992, 46025, 46068, 46149, 46157, 46158, 46190, 46215, 46263, 46286, 46305, 46341, 46397, 46497, 46549, 46555, 46619, 46648, 46694, 46702, 46721, 46722, 46726, 46734, 46751, 46753, 46772, 46783, 46792, 46813, 46842, 46848, 46855, 46875, 46876, 46883, 46893, 46909, 46911, 46936, 46971, 46990, 47015, 47025, 47114, 47117, 47120, 47162, 47170, 47172, 47258, 47261, 47302, 47317, 47332, 47345, 47367, 47385, 47398, 47454, 47478, 47486, 47518, 47553, 47608, 47761, 47795, 47971, 48017, 48071, 48096, 48219, 48222, 48252, 48274, 48336, 48344, 48442, 48447, 48475, 48556, 48572, 48579, 48617, 48634, 48673, 48674, 48698, 48704, 48709, 48728, 48742, 48814, 48870, 48941, 48959, 48989, 49013, 49082, 49083, 49110, 49152, 49178, 49270, 49274, 49289, 49337, 49358, 49401, 49429, 49451, 49467, 49479, 49484, 49500, 49510, 49540, 49545, 49548, 49584, 49591, 49598, 49639, 49672, 49678, 49679, 49700, 49703, 49728, 49779, 49784, 49823, 49830, 49887, 49889, 49903, 49925, 1, 72, 85, 90, 97, 175, 286, 327, 336, 363, 379, 403, 437, 455, 469, 486, 497, 514, 528, 533, 549, 582, 588, 681, 719, 723, 729, 746, 755, 797, 827, 843, 851, 865, 1022, 1054, 1147, 1149, 1163, 1218, 1220, 1225, 1316, 1418, 1423, 1430, 1444, 1479, 1562, 1642, 1653, 1657, 1670, 1675, 1677, 1683, 1688, 1731, 1792, 1795, 1797, 1815, 1874, 1881, 1914, 1920, 1961, 1968, 2009, 2031, 2057, 2085, 2164, 2300, 2305, 2436, 2492, 2506, 2519, 2579, 2693, 2735, 2737, 2764, 2802, 2856, 2860, 2974, 3038, 3099, 3102, 3116, 3117, 3120, 3143, 3155, 3203, 3209, 3222, 3290, 3305, 3327, 3413, 3417, 3443, 3464, 3482, 3516, 3546, 3553, 3594, 3620, 3642, 3652, 3655, 3680, 3740, 3776, 3898, 3909, 3934, 3968, 3991, 3996, 4043, 4060, 4067, 4080, 4113, 4143, 4148, 4154, 4226, 4241, 4392, 4448, 4561, 4575, 4578, 4605, 4619, 4637, 4648, 4711, 4713, 4726, 4785, 4849, 4916, 4947, 4949, 4964, 5004, 5016, 5041, 5111, 5151, 5169, 5186, 5211, 5258, 5304, 5318, 5319, 5339, 5363, 5446, 5458, 5541, 5545, 5558, 5568, 5646, 5683, 5707, 5755, 5783, 5820, 5885, 5903, 5988, 6004, 6010, 6067, 6106, 6117, 6120, 6156, 6196, 6223, 6313, 6333, 6336, 6359, 6443, 6550, 6576, 6620, 6659, 6689, 6723, 6750, 6754, 6837, 6864, 6867, 6890, 6930, 6991, 7051, 7176, 7212, 7228, 7317, 7328, 7401, 7417, 7465, 7518, 7519, 7533, 7551, 7572, 7594, 7606, 7607, 7646, 7691, 7709, 7720, 7772, 7831, 7835, 7837, 7843, 7858, 7885, 7886, 7888, 7925, 7928, 7932, 7942, 7976, 7979, 8088, 8107, 8138, 8174, 8175, 8187, 8266, 8281, 8319, 8389, 8391, 8398, 8405, 8440, 8456, 8496, 8552, 8609, 8638, 8665, 8681, 8718, 8743, 8746, 8797, 8816, 8857, 8867, 8885, 8899, 8913, 8930, 8991, 9032, 9061, 9062, 9194, 9223, 9276, 9306, 9362, 9367, 9518, 9548, 9573, 9630, 9675, 9706, 9708, 9716, 9732, 9733, 9744, 9806, 9810, 9822, 9827, 9831, 9833, 9854, 9882, 9925, 9943, 9974, 9997, 10001, 10006, 10071, 10121, 10147, 10159, 10173, 10178, 10204, 10279, 10332, 10391, 10436, 10481, 10593, 10762, 10773, 10868, 10909, 10968, 10977, 10985, 11000, 11031, 11101, 11162, 11212, 11223, 11225, 11307, 11371, 11416, 11440, 11451, 11524, 11528, 11582, 11679, 11696, 11717, 11719, 11733, 11744, 11749, 11763, 11773, 11815, 11844, 11854, 11856, 11861, 11866, 11872, 11916, 11948, 11994, 12025, 12104, 12159, 12216, 12224, 12240, 12242, 12310, 12370, 12406, 12432, 12452, 12455, 12466, 12471, 12525, 12561, 12626, 12676, 12703, 12704, 12772, 12809, 12812, 12820, 12834, 12844, 12849, 12856, 12897, 12939, 12950, 13064, 13089, 13104, 13120, 13139, 13149, 13184, 13197, 13211, 13212, 13234, 13240, 13244, 13251, 13256, 13280, 13299, 13344, 13355, 13365, 13431, 13467, 13492, 13548, 13569, 13615, 13619, 13630, 13752, 13758, 13877, 13911, 14075, 14124, 14140, 14148, 14169, 14198, 14212, 14240, 14257, 14265, 14329, 14335, 14410, 14417, 14445, 14446, 14552, 14560, 14565, 14620, 14652, 14673, 14690, 14797, 14820, 14889, 14931, 14943, 14945, 14961, 14993, 15049, 15060, 15073, 15074, 15083, 15146, 15154, 15189, 15196, 15204, 15209, 15237, 15250, 15256, 15258, 15266, 15268, 15275, 15299, 15302, 15318, 15443, 15467, 15471, 15632, 15664, 15675, 15697, 15713, 15727, 15770, 15911, 15947, 15970, 16032, 16106, 16147, 16162, 16172, 16222, 16262, 16290, 16326, 16394, 16429, 16498, 16512, 16575, 16673, 16702, 16716, 16725, 16727, 16780, 16861, 16919, 16952, 16967, 16998, 17011, 17015, 17023, 17027, 17061, 17138, 17180, 17190, 17198, 17292, 17308, 17331, 17400, 17420, 17438, 17444, 17446, 17582, 17585, 17593, 17600, 17658, 17694, 17729, 17754, 17844, 17851, 17955, 18093, 18114, 18137, 18206, 18277, 18313, 18320, 18335, 18373, 18374, 18434, 18461, 18480, 18538, 18551, 18570, 18574, 18620, 18630, 18655, 18698, 18738, 18765, 18773, 18809, 18857, 18884, 18904, 18910, 18915, 18938, 18999, 19027, 19154, 19260, 19314, 19412, 19458, 19478, 19514, 19604, 19609, 19617, 19702, 19724, 19851, 19914, 19931, 19993, 19996, 20070, 20073, 20081, 20116, 20128, 20139, 20142, 20157, 20200, 20206, 20236, 20238, 20250, 20304, 20306, 20327, 20375, 20409, 20413, 20471, 20567, 20616, 20636, 20755, 20828, 20832, 20835, 20847, 20880, 20982, 20985, 20988, 21012, 21046, 21056, 21076, 21077, 21114, 21157, 21160, 21167, 21194, 21257, 21259, 21264, 21333, 21371, 21387, 21412, 21486, 21488, 21530, 21596, 21636, 21743, 21747, 21751, 21770, 21788, 21837, 21849, 21891, 21903, 21927, 21933, 22036, 22110, 22114, 22125, 22149, 22167, 22193, 22236, 22285, 22306, 22322, 22359, 22367, 22405, 22414, 22418, 22422, 22464, 22466, 22483, 22498, 22520, 22552, 22571, 22625, 22693, 22739, 22762, 22774, 22791, 22848, 22858, 22875, 22932, 22958, 23029, 23112, 23117, 23146, 23267, 23364, 23372, 23388, 23467, 23562, 23603, 23690, 23702, 23732, 23751, 23825, 23847, 23855, 23977, 24005, 24008, 24011, 24018, 24028, 24029, 24061, 24161, 24233, 24270, 24274, 24337, 24373, 24385, 24415, 24417, 24418, 24419, 24422, 24429, 24503, 24506, 24533, 24545, 24586, 24589, 24593, 24643, 24653, 24685, 24715, 24740, 24757, 24776, 24780, 24819, 24823, 24831, 24873, 24877, 24938, 25078, 25102, 25113, 25158, 25218, 25231, 25297, 25317, 25333, 25347, 25359, 25431, 25450, 25481, 25510, 25517, 25683, 25697, 25728, 25755, 25825, 25841, 25844, 25858, 25924, 25966, 26032, 26171, 26181, 26182, 26244, 26254, 26311, 26469, 26550, 26576, 26591, 26785, 26811, 26881, 26909, 26925, 27088, 27098, 27104, 27112, 27126, 27195, 27238, 27288, 27308, 27330, 27335, 27390, 27419, 27439, 27443, 27474, 27494, 27511, 27520, 27548, 27567, 27615, 27655, 27668, 27736, 27740, 27781, 27812, 27835, 27840, 27847, 27849, 27881, 27888, 27901, 27902, 27916, 27918, 27948, 27957, 27962, 28028, 28133, 28183, 28198, 28235, 28236, 28241, 28253, 28297, 28355, 28415, 28417, 28476, 28478, 28539, 28583, 28625, 28673, 28757, 28761, 28823, 28893, 28902, 28904, 28923, 28950, 28976, 28982, 28993, 29010, 29026, 29081, 29142, 29168, 29201, 29246, 29287, 29295, 29354, 29391, 29418, 29436, 29450, 29477, 29496, 29504, 29528, 29559, 29658, 29665, 29696, 29726, 29737, 29825, 29928, 30005, 30025, 30052, 30060, 30074, 30078, 30111, 30148, 30159, 30172, 30219, 30226, 30286, 30297, 30306, 30322, 30408, 30530, 30551, 30570, 30584, 30605, 30699, 30702, 30714, 30732, 30763, 30769, 30784, 30857, 30906, 30914, 30924, 30959, 30964, 31047, 31084, 31103, 31121, 31180, 31223, 31266, 31277, 31354, 31390, 31400, 31412, 31447, 31505, 31521, 31568, 31607, 31613, 31632, 31681, 31708, 31791, 31812, 31850, 31865, 31909, 31954, 32050, 32080, 32114, 32149, 32242, 32249, 32275, 32305, 32313, 32363, 32455, 32491, 32515, 32522, 32527, 32534, 32605, 32707, 32721, 32725, 32761, 32790, 32817, 32837, 32910, 32979, 32997, 33000, 33024, 33028, 33035, 33044, 33068, 33105, 33137, 33150, 33185, 33228, 33254, 33266, 33294, 33304, 33344, 33382, 33497, 33517, 33554, 33570, 33580, 33595, 33604, 33662, 33673, 33683, 33693, 33730, 33732, 33750, 33765, 33771, 33775, 33776, 33804, 33837, 33849, 33893, 33915, 33929, 33937, 34022, 34030, 34113, 34182, 34184, 34239, 34291, 34309, 34326, 34375, 34379, 34380, 34418, 34438, 34474, 34498, 34513, 34525, 34530, 34586, 34642, 34693, 34702, 34748, 34754, 34844, 34878, 34925, 34938, 34944, 34950, 34994, 35001, 35066, 35084, 35111, 35127, 35181, 35210, 35228, 35264, 35277, 35333, 35365, 35371, 35375, 35386, 35414, 35426, 35472, 35533, 35595, 35605, 35639, 35655, 35660, 35725, 35750, 35761, 35818, 35849, 35893, 35977, 36068, 36085, 36129, 36130, 36142, 36155, 36167, 36194, 36204, 36257, 36260, 36309, 36321, 36334, 36337, 36371, 36381, 36433, 36458, 36524, 36543, 36560, 36568, 36642, 36661, 36699, 36729, 36786, 36788, 36820, 36855, 36857, 36880, 36890, 36916, 36949, 37001, 37013, 37046, 37082, 37134, 37164, 37185, 37194, 37214, 37256, 37266, 37360, 37480, 37539, 37680, 37724, 37756, 37757, 37795, 37821, 37909, 37917, 37943, 37958, 37977, 38034, 38053, 38190, 38200, 38201, 38203, 38208, 38221, 38256, 38280, 38292, 38321, 38389, 38409, 38449, 38475, 38510, 38531, 38562, 38626, 38654, 38666, 38675, 38712, 38795, 38803, 38824, 38893, 39020, 39046, 39059, 39078, 39172, 39198, 39200, 39218, 39222, 39243, 39298, 39320, 39413, 39474, 39508, 39535, 39573, 39577, 39601, 39662, 39689, 39714, 39836, 39869, 39889, 39931, 39969, 40007, 40018, 40034, 40038, 40050, 40104, 40121, 40136, 40186, 40199, 40296, 40373, 40490, 40498, 40573, 40625, 40731, 40780, 40794, 40833, 40834, 40918, 40966, 40995, 41010, 41015, 41077, 41088, 41112, 41181, 41190, 41200, 41211, 41214, 41290, 41310, 41325, 41363, 41392, 41440, 41462, 41490, 41539, 41611, 41649, 41653, 41658, 41765, 41768, 41782, 41876, 41884, 41885, 41950, 41961, 41982, 42012, 42018, 42035, 42052, 42126, 42290, 42296, 42341, 42420, 42429, 42447, 42476, 42509, 42530, 42624, 42629, 42652, 42659, 42727, 42759, 42778, 42802, 42885, 42896, 42910, 43010, 43198, 43257, 43271, 43277, 43362, 43372, 43376, 43396, 43418, 43436, 43449, 43495, 43567, 43629, 43707, 43721, 43722, 43777, 43795, 43798, 43801, 43802, 43853, 43895, 43918, 43956, 43967, 43994, 43997, 44013, 44015, 44089, 44122, 44142, 44148, 44155, 44172, 44272, 44299, 44309, 44313, 44362, 44383, 44412, 44488, 44520, 44589, 44604, 44636, 44647, 44695, 44743, 44761, 44881, 44911, 44997, 45007, 45035, 45075, 45150, 45154, 45172, 45175, 45176, 45195, 45207, 45210, 45275, 45291, 45296, 45302, 45411, 45576, 45579, 45655, 45674, 45677, 45680, 45713, 45748, 45749, 45759, 45768, 45771, 45813, 45892, 45898, 45912, 45988, 46017, 46028, 46064, 46086, 46116, 46234, 46260, 46261, 46271, 46272, 46302, 46324, 46335, 46338, 46365, 46372, 46378, 46381, 46475, 46478, 46481, 46498, 46543, 46573, 46598, 46599, 46705, 46722, 46772, 46875, 46887, 46916, 46926, 46968, 47031, 47041, 47088, 47117, 47146, 47167, 47235, 47268, 47287, 47316, 47317, 47348, 47369, 47394, 47576, 47643, 47715, 47725, 47730, 47785, 47814, 47852, 47880, 47974, 47980, 47986, 48009, 48068, 48184, 48203, 48229, 48257, 48292, 48391, 48446, 48453, 48494, 48552, 48585, 48620, 48658, 48678, 48704, 48709, 48711, 48728, 48764, 48770, 48779, 48784, 48849, 48859, 48866, 48874, 48893, 48973, 48978, 49019, 49038, 49076, 49118, 49168, 49186, 49195, 49211, 49227, 49234, 49256, 49261, 49301, 49323, 49372, 49408, 49430, 49520, 49551, 49569, 49611, 49636, 49653, 49706, 49757, 49762, 49784, 49827, 49839, 49853, 49895, 49897, 6, 8, 10, 14, 46, 83, 89, 174, 175, 191, 213, 232, 233, 279, 290, 295, 299, 311, 330, 336, 397, 408, 433, 446, 460, 472, 515, 527, 534, 554, 564, 583, 591, 594, 596, 601, 634, 651, 661, 664, 669, 718, 719, 725, 737, 738, 762, 767, 773, 793, 803, 839, 847, 848, 850, 852, 853, 872, 894, 903, 919, 939, 947, 965, 974, 987, 997, 1019, 1059, 1065, 1094, 1116, 1124, 1157, 1205, 1222, 1264, 1299, 1337, 1340, 1373, 1380, 1409, 1466, 1484, 1503, 1526, 1530, 1565, 1588, 1596, 1601, 1602, 1642, 1655, 1682, 1688, 1708, 1720, 1732, 1757, 1769, 1772, 1773, 1777, 1811, 1812, 1822, 1858, 1865, 1885, 1910, 1920, 1922, 1931, 1946, 1949, 1962, 1970, 1991, 1994, 2000, 2019, 2035, 2040, 2059, 2063, 2084, 2114, 2116, 2139, 2143, 2144, 2152, 2187, 2197, 2213, 2214, 2259, 2268, 2294, 2303, 2307, 2346, 2356, 2437, 2466, 2469, 2476, 2485, 2497, 2540, 2545, 2558, 2562, 2581, 2591, 2597, 2639, 2653, 2699, 2717, 2722, 2731, 2757, 2764, 2774, 2781, 2799, 2810, 2815, 2828, 2862, 2869, 2870, 2882, 2886, 2898, 2899, 2929, 2937, 2943, 2963, 3008, 3017, 3026, 3042, 3083, 3106, 3115, 3127, 3145, 3158, 3190, 3191, 3193, 3202, 3217, 3236, 3246, 3280, 3281, 3285, 3289, 3298, 3312, 3316, 3358, 3407, 3433, 3439, 3445, 3463, 3466, 3491, 3497, 3503, 3504, 3511, 3520, 3535, 3577, 3578, 3588, 3597, 3599, 3604, 3606, 3612, 3624, 3645, 3673, 3675, 3694, 3716, 3724, 3737, 3764, 3787, 3788, 3790, 3809, 3810, 3813, 3821, 3829, 3845, 3847, 3865, 3877, 3882, 3892, 3893, 3903, 3904, 3941, 3956, 3957, 3964, 3969, 3973, 3979, 3994, 3998, 4026, 4035, 4036, 4069, 4074, 4103, 4106, 4136, 4149, 4157, 4162, 4168, 4191, 4193, 4209, 4234, 4237, 4266, 4277, 4323, 4332, 4335, 4336, 4343, 4362, 4365, 4366, 4370, 4377, 4424, 4470, 4473, 4480, 4515, 4519, 4522, 4523, 4527, 4555, 4599, 4619, 4639, 4649, 4719, 4722, 4733, 4774, 4864, 4874, 4875, 4882, 4885, 4924, 4926, 4930, 4976, 4989, 4999, 5003, 5020, 5023, 5038, 5042, 5084, 5085, 5086, 5110, 5115, 5122, 5125, 5139, 5140, 5146, 5162, 5176, 5181, 5199, 5201, 5202, 5219, 5234, 5236, 5237, 5249, 5252, 5277, 5292, 5305, 5336, 5365, 5381, 5386, 5408, 5421, 5435, 5443, 5519, 5541, 5553, 5563, 5610, 5629, 5633, 5671, 5691, 5693, 5720, 5726, 5769, 5822, 5849, 5870, 5872, 5873, 5879, 5894, 5904, 5921, 5951, 5958, 5960, 5969, 5978, 6001, 6029, 6094, 6100, 6149, 6163, 6165, 6179, 6195, 6203, 6207, 6215, 6247, 6251, 6252, 6267, 6298, 6306, 6314, 6322, 6329, 6330, 6347, 6364, 6378, 6384, 6393, 6414, 6446, 6487, 6543, 6546, 6554, 6581, 6606, 6609, 6631, 6642, 6691, 6693, 6713, 6750, 6771, 6794, 6826, 6855, 6857, 6860, 6865, 6891, 6912, 6923, 6924, 6948, 6958, 6980, 6996, 7030, 7092, 7209, 7215, 7246, 7262, 7314, 7325, 7329, 7358, 7376, 7378, 7381, 7401, 7450, 7463, 7499, 7505, 7515, 7521, 7543, 7556, 7561, 7562, 7578, 7580, 7611, 7627, 7661, 7682, 7692, 7712, 7721, 7739, 7749, 7759, 7765, 7769, 7776, 7777, 7786, 7789, 7807, 7811, 7841, 7872, 7874, 7894, 7921, 7955, 7963, 7969, 7985, 7997, 8004, 8012, 8059, 8098, 8114, 8142, 8165, 8212, 8215, 8219, 8221, 8223, 8283, 8295, 8305, 8318, 8326, 8345, 8360, 8363, 8365, 8375, 8378, 8381, 8396, 8423, 8429, 8442, 8463, 8466, 8486, 8524, 8525, 8535, 8570, 8577, 8590, 8628, 8640, 8643, 8653, 8655, 8684, 8685, 8690, 8698, 8734, 8742, 8761, 8763, 8829, 8874, 8883, 8889, 8893, 8912, 8913, 8935, 8944, 8945, 8984, 8999, 9034, 9040, 9055, 9067, 9073, 9097, 9153, 9195, 9228, 9248, 9253, 9260, 9265, 9268, 9332, 9358, 9363, 9367, 9469, 9490, 9521, 9533, 9546, 9570, 9571, 9575, 9590, 9595, 9625, 9633, 9651, 9683, 9706, 9720, 9722, 9734, 9736, 9777, 9790, 9818, 9827, 9848, 9860, 9873, 9876, 9884, 9903, 9904, 9930, 9951, 9982, 9983, 9985, 10012, 10013, 10014, 10017, 10027, 10038, 10057, 10073, 10083, 10097, 10114, 10127, 10168, 10177, 10206, 10207, 10220, 10222, 10224, 10238, 10265, 10266, 10269, 10277, 10297, 10300, 10315, 10317, 10318, 10357, 10366, 10379, 10381, 10382, 10405, 10410, 10417, 10418, 10424, 10441, 10448, 10465, 10487, 10490, 10491, 10515, 10534, 10535, 10544, 10546, 10554, 10559, 10575, 10608, 10614, 10628, 10638, 10639, 10644, 10645, 10659, 10673, 10684, 10723, 10759, 10767, 10800, 10820, 10832, 10861, 10865, 10866, 10870, 10877, 10890, 10918, 10921, 10972, 10975, 10976, 11029, 11048, 11049, 11072, 11122, 11143, 11179, 11197, 11242, 11268, 11271, 11303, 11308, 11316, 11323, 11327, 11338, 11376, 11385, 11411, 11431, 11432, 11449, 11453, 11461, 11467, 11474, 11503, 11505, 11527, 11558, 11560, 11591, 11600, 11602, 11630, 11701, 11703, 11704, 11728, 11748, 11763, 11768, 11844, 11915, 11981, 11984, 12009, 12028, 12047, 12140, 12153, 12170, 12176, 12188, 12202, 12207, 12229, 12235, 12242, 12259, 12262, 12281, 12295, 12326, 12327, 12360, 12362, 12365, 12388, 12408, 12437, 12457, 12468, 12483, 12503, 12514, 12516, 12518, 12539, 12540, 12558, 12563, 12577, 12580, 12583, 12621, 12627, 12719, 12723, 12741, 12749, 12797, 12806, 12820, 12849, 12851, 12872, 12874, 12881, 12886, 12888, 12897, 12906, 12936, 12941, 12942, 12955, 12970, 13013, 13027, 13048, 13058, 13099, 13111, 13140, 13152, 13171, 13176, 13179, 13184, 13196, 13203, 13208, 13232, 13233, 13236, 13241, 13244, 13263, 13283, 13299, 13303, 13333, 13351, 13361, 13364, 13385, 13399, 13444, 13459, 13479, 13498, 13523, 13531, 13536, 13541, 13547, 13556, 13576, 13588, 13590, 13605, 13611, 13621, 13646, 13651, 13692, 13716, 13720, 13730, 13739, 13766, 13788, 13796, 13801, 13809, 13812, 13862, 13863, 13879, 13883, 13910, 13930, 13937, 13969, 13975, 13983, 14014, 14041, 14080, 14096, 14102, 14103, 14117, 14119, 14127, 14129, 14132, 14143, 14148, 14166, 14172, 14176, 14237, 14268, 14270, 14275, 14290, 14291, 14293, 14302, 14327, 14374, 14375, 14379, 14381, 14411, 14417, 14418, 14423, 14424, 14436, 14453, 14467, 14487, 14511, 14512, 14516, 14530, 14532, 14535, 14536, 14562, 14566, 14620, 14686, 14710, 14733, 14736, 14744, 14775, 14778, 14788, 14805, 14806, 14828, 14838, 14839, 14860, 14868, 14900, 14904, 14908, 14945, 14969, 14973, 14977, 14982, 14986, 15008, 15014, 15057, 15063, 15069, 15075, 15088, 15134, 15169, 15185, 15215, 15233, 15240, 15258, 15269, 15272, 15283, 15285, 15291, 15295, 15302, 15303, 15305, 15318, 15319, 15354, 15357, 15384, 15386, 15404, 15412, 15436, 15471, 15476, 15487, 15493, 15499, 15516, 15535, 15600, 15605, 15606, 15607, 15611, 15634, 15635, 15645, 15650, 15676, 15678, 15685, 15710, 15713, 15732, 15733, 15744, 15766, 15785, 15805, 15818, 15828, 15833, 15842, 15877, 15878, 15881, 15890, 15905, 15923, 15928, 15941, 15953, 15954, 15978, 16012, 16014, 16018, 16035, 16041, 16050, 16103, 16113, 16125, 16133, 16141, 16170, 16176, 16188, 16206, 16233, 16235, 16236, 16257, 16272, 16280, 16284, 16296, 16311, 16320, 16322, 16385, 16404, 16417, 16418, 16435, 16455, 16465, 16484, 16494, 16497, 16499, 16527, 16532, 16554, 16559, 16594, 16603, 16624, 16638, 16650, 16655, 16675, 16687, 16739, 16762, 16787, 16841, 16843, 16845, 16846, 16870, 16871, 16872, 16891, 16918, 16982, 16987, 17033, 17036, 17041, 17058, 17062, 17078, 17111, 17126, 17150, 17173, 17198, 17210, 17232, 17249, 17259, 17284, 17290, 17297, 17315, 17323, 17333, 17342, 17365, 17392, 17400, 17402, 17407, 17408, 17418, 17426, 17471, 17488, 17507, 17514, 17518, 17519, 17543, 17553, 17555, 17560, 17578, 17588, 17634, 17642, 17644, 17667, 17681, 17712, 17777, 17794, 17854, 17866, 17875, 17886, 17892, 17895, 17923, 17951, 17957, 17972, 17979, 17986, 17992, 18006, 18021, 18030, 18031, 18032, 18035, 18046, 18052, 18072, 18081, 18109, 18113, 18114, 18148, 18183, 18187, 18202, 18214, 18217, 18218, 18231, 18235, 18237, 18259, 18260, 18261, 18271, 18275, 18296, 18351, 18360, 18367, 18368, 18375, 18393, 18400, 18410, 18430, 18435, 18442, 18445, 18464, 18477, 18506, 18508, 18516, 18547, 18563, 18573, 18584, 18661, 18662, 18666, 18674, 18684, 18711, 18716, 18717, 18786, 18791, 18825, 18840, 18844, 18873, 18892, 18900, 18911, 18923, 18963, 18991, 18996, 19034, 19072, 19111, 19113, 19121, 19131, 19184, 19200, 19202, 19214, 19234, 19266, 19277, 19282, 19290, 19314, 19350, 19360, 19366, 19368, 19375, 19380, 19395, 19406, 19409, 19422, 19471, 19487, 19504, 19517, 19521, 19526, 19539, 19547, 19572, 19586, 19601, 19624, 19655, 19657, 19667, 19697, 19747, 19756, 19767, 19772, 19777, 19789, 19842, 19846, 19852, 19874, 19881, 19883, 19891, 19901, 19933, 19940, 19964, 19991, 19997, 20010, 20046, 20048, 20056, 20098, 20103, 20104, 20115, 20132, 20163, 20175, 20181, 20186, 20189, 20204, 20212, 20235, 20243, 20251, 20259, 20267, 20274, 20302, 20307, 20318, 20336, 20343, 20346, 20355, 20371, 20373, 20387, 20417, 20447, 20456, 20469, 20479, 20492, 20497, 20524, 20551, 20575, 20581, 20604, 20606, 20637, 20649, 20654, 20677, 20682, 20688, 20690, 20694, 20709, 20717, 20733, 20745, 20760, 20771, 20773, 20776, 20778, 20781, 20782, 20801, 20803, 20852, 20854, 20855, 20900, 20924, 20934, 21001, 21005, 21009, 21033, 21044, 21055, 21063, 21085, 21106, 21109, 21141, 21145, 21147, 21154, 21162, 21166, 21170, 21174, 21185, 21192, 21241, 21257, 21267, 21273, 21284, 21293, 21297, 21302, 21305, 21307, 21314, 21324, 21326, 21339, 21367, 21416, 21428, 21458, 21476, 21489, 21506, 21529, 21542, 21546, 21564, 21568, 21574, 21586, 21614, 21625, 21644, 21645, 21693, 21701, 21706, 21718, 21742, 21745, 21776, 21801, 21828, 21840, 21873, 21915, 21916, 21936, 21954, 22001, 22008, 22031, 22048, 22054, 22066, 22067, 22105, 22108, 22110, 22143, 22146, 22155, 22173, 22174, 22181, 22197, 22219, 22233, 22234, 22256, 22261, 22267, 22297, 22300, 22305, 22319, 22323, 22327, 22389, 22391, 22451, 22456, 22464, 22479, 22494, 22495, 22499, 22503, 22508, 22561, 22564, 22573, 22594, 22623, 22635, 22637, 22643, 22654, 22666, 22669, 22671, 22678, 22695, 22710, 22732, 22747, 22776, 22782, 22786, 22800, 22819, 22858, 22877, 22881, 22891, 22897, 22920, 22949, 22952, 22956, 22960, 22971, 22994, 22997, 23001, 23029, 23039, 23078, 23092, 23109, 23115, 23117, 23139, 23151, 23155, 23185, 23190, 23197, 23230, 23232, 23243, 23251, 23253, 23265, 23277, 23278, 23288, 23298, 23302, 23356, 23362, 23370, 23391, 23395, 23405, 23434, 23482, 23497, 23515, 23518, 23519, 23524, 23531, 23536, 23555, 23562, 23569, 23574, 23609, 23625, 23643, 23660, 23679, 23681, 23695, 23705, 23719, 23740, 23759, 23769, 23778, 23787, 23791, 23812, 23815, 23818, 23834, 23859, 23882, 23883, 23884, 23901, 23943, 23951, 23953, 23957, 23966, 23976, 23982, 23988, 24028, 24035, 24053, 24056, 24062, 24063, 24070, 24098, 24104, 24112, 24115, 24131, 24144, 24161, 24167, 24172, 24184, 24186, 24218, 24221, 24237, 24248, 24251, 24257, 24263, 24278, 24289, 24290, 24321, 24329, 24342, 24349, 24364, 24376, 24383, 24427, 24437, 24448, 24455, 24484, 24502, 24508, 24530, 24589, 24614, 24654, 24669, 24686, 24703, 24706, 24716, 24720, 24727, 24732, 24749, 24763, 24788, 24790, 24817, 24828, 24842, 24851, 24868, 24870, 24889, 24900, 24906, 24916, 24917, 24919, 24959, 24960, 24971, 24972, 24990, 25004, 25005, 25021, 25027, 25036, 25046, 25050, 25059, 25070, 25071, 25081, 25126, 25129, 25138, 25146, 25150, 25160, 25162, 25164, 25168, 25173, 25177, 25179, 25192, 25231, 25239, 25256, 25270, 25271, 25272, 25304, 25305, 25328, 25356, 25376, 25382, 25384, 25394, 25400, 25408, 25447, 25493, 25502, 25534, 25543, 25557, 25561, 25564, 25572, 25574, 25588, 25593, 25639, 25671, 25675, 25691, 25698, 25707, 25725, 25727, 25741, 25744, 25755, 25778, 25784, 25789, 25793, 25814, 25838, 25883, 25901, 25904, 25905, 25910, 25937, 25950, 25951, 25959, 25960, 26000, 26012, 26036, 26044, 26067, 26069, 26078, 26100, 26134, 26137, 26141, 26174, 26182, 26188, 26257, 26275, 26292, 26322, 26384, 26393, 26407, 26452, 26484, 26513, 26527, 26531, 26555, 26576, 26593, 26613, 26628, 26630, 26635, 26644, 26650, 26657, 26658, 26662, 26709, 26723, 26725, 26759, 26761, 26767, 26769, 26777, 26781, 26788, 26801, 26802, 26803, 26821, 26849, 26865, 26885, 26887, 26915, 26919, 26935, 26954, 26955, 26956, 26963, 27009, 27024, 27042, 27062, 27103, 27105, 27119, 27121, 27126, 27129, 27131, 27143, 27189, 27201, 27220, 27236, 27274, 27297, 27304, 27307, 27322, 27324, 27332, 27338, 27353, 27360, 27361, 27371, 27384, 27388, 27411, 27437, 27451, 27456, 27460, 27469, 27475, 27478, 27486, 27515, 27542, 27550, 27570, 27575, 27580, 27591, 27596, 27642, 27682, 27684, 27711, 27716, 27720, 27732, 27766, 27775, 27784, 27786, 27790, 27800, 27823, 27825, 27835, 27850, 27941, 27945, 27968, 27992, 28005, 28023, 28053, 28071, 28074, 28111, 28116, 28173, 28183, 28193, 28201, 28211, 28231, 28234, 28239, 28245, 28246, 28254, 28280, 28284, 28290, 28346, 28349, 28385, 28395, 28397, 28399, 28400, 28417, 28418, 28481, 28483, 28484, 28512, 28517, 28545, 28547, 28550, 28557, 28564, 28571, 28601, 28606, 28607, 28611, 28631, 28635, 28651, 28658, 28660, 28667, 28671, 28681, 28690, 28693, 28705, 28714, 28725, 28757, 28784, 28798, 28817, 28832, 28838, 28840, 28846, 28869, 28892, 28909, 28910, 28955, 28966, 28967, 28989, 29009, 29036, 29049, 29056, 29063, 29065, 29077, 29080, 29148, 29155, 29170, 29171, 29196, 29198, 29218, 29231, 29233, 29244, 29247, 29262, 29265, 29273, 29274, 29293, 29327, 29352, 29368, 29379, 29399, 29422, 29425, 29459, 29469, 29472, 29487, 29509, 29515, 29528, 29579, 29581, 29593, 29602, 29651, 29661, 29663, 29666, 29676, 29716, 29731, 29739, 29755, 29776, 29810, 29822, 29850, 29860, 29884, 29907, 29938, 29946, 29978, 29980, 29981, 29984, 30011, 30014, 30017, 30030, 30035, 30038, 30039, 30086, 30111, 30176, 30179, 30186, 30191, 30199, 30201, 30213, 30223, 30231, 30237, 30239, 30245, 30259, 30264, 30271, 30276, 30317, 30362, 30371, 30375, 30404, 30410, 30419, 30428, 30435, 30438, 30459, 30480, 30544, 30562, 30570, 30586, 30590, 30615, 30647, 30709, 30734, 30737, 30744, 30768, 30773, 30797, 30833, 30835, 30865, 30875, 30912, 30927, 30930, 30947, 30952, 30970, 31017, 31021, 31035, 31041, 31046, 31047, 31054, 31058, 31070, 31072, 31083, 31084, 31085, 31135, 31176, 31177, 31228, 31245, 31268, 31278, 31289, 31299, 31301, 31306, 31322, 31338, 31343, 31348, 31386, 31397, 31405, 31407, 31409, 31414, 31418, 31422, 31434, 31451, 31455, 31457, 31460, 31462, 31485, 31559, 31566, 31567, 31583, 31587, 31617, 31646, 31661, 31665, 31685, 31686, 31688, 31704, 31728, 31736, 31753, 31784, 31790, 31801, 31824, 31828, 31841, 31847, 31898, 31907, 31911, 31912, 31936, 31970, 31974, 31975, 31994, 32012, 32046, 32047, 32056, 32076, 32087, 32096, 32098, 32106, 32113, 32116, 32117, 32141, 32159, 32195, 32197, 32199, 32204, 32211, 32213, 32227, 32241, 32316, 32348, 32356, 32370, 32373, 32374, 32395, 32397, 32405, 32415, 32419, 32471, 32501, 32506, 32516, 32521, 32542, 32574, 32580, 32587, 32589, 32596, 32605, 32612, 32743, 32747, 32753, 32763, 32796, 32800, 32806, 32829, 32832, 32833, 32893, 32896, 32933, 32944, 32967, 32976, 32992, 33006, 33014, 33040, 33067, 33076, 33079, 33087, 33090, 33099, 33209, 33210, 33226, 33228, 33229, 33235, 33236, 33238, 33239, 33264, 33291, 33294, 33311, 33337, 33347, 33411, 33415, 33432, 33488, 33496, 33506, 33517, 33522, 33541, 33544, 33579, 33583, 33608, 33622, 33656, 33681, 33685, 33686, 33695, 33696, 33701, 33718, 33733, 33742, 33767, 33771, 33796, 33802, 33816, 33830, 33838, 33875, 33876, 33883, 33933, 33950, 33960, 33983, 33991, 33999, 34000, 34014, 34034, 34035, 34058, 34063, 34068, 34078, 34092, 34139, 34145, 34155, 34160, 34164, 34192, 34204, 34216, 34248, 34301, 34315, 34357, 34364, 34369, 34389, 34398, 34407, 34409, 34432, 34436, 34439, 34441, 34442, 34449, 34460, 34479, 34491, 34505, 34507, 34539, 34547, 34562, 34566, 34607, 34635, 34647, 34662, 34669, 34677, 34683, 34684, 34687, 34690, 34765, 34766, 34779, 34814, 34815, 34835, 34881, 34884, 34890, 34905, 34910, 34927, 34930, 34950, 34962, 34969, 34972, 34999, 35013, 35066, 35119, 35147, 35152, 35160, 35169, 35210, 35216, 35251, 35255, 35267, 35270, 35284, 35298, 35312, 35337, 35352, 35397, 35399, 35415, 35428, 35433, 35434, 35438, 35459, 35484, 35493, 35517, 35520, 35524, 35527, 35548, 35549, 35576, 35581, 35606, 35619, 35622, 35627, 35649, 35655, 35677, 35679, 35680, 35683, 35684, 35688, 35693, 35705, 35743, 35747, 35756, 35760, 35765, 35781, 35859, 35868, 35872, 35879, 35902, 35918, 35919, 35926, 35947, 35949, 35952, 35971, 35977, 35983, 35986, 35992, 36094, 36096, 36105, 36116, 36119, 36127, 36170, 36184, 36190, 36208, 36237, 36247, 36281, 36291, 36300, 36316, 36321, 36326, 36329, 36335, 36337, 36346, 36351, 36381, 36389, 36395, 36423, 36426, 36437, 36447, 36452, 36492, 36501, 36510, 36529, 36607, 36617, 36633, 36634, 36668, 36670, 36673, 36681, 36699, 36729, 36750, 36756, 36769, 36787, 36790, 36796, 36798, 36875, 36899, 36927, 36930, 36960, 37006, 37010, 37029, 37062, 37079, 37081, 37086, 37104, 37122, 37127, 37133, 37162, 37173, 37192, 37201, 37220, 37223, 37237, 37238, 37256, 37296, 37300, 37315, 37341, 37357, 37375, 37395, 37400, 37406, 37420, 37448, 37458, 37486, 37504, 37510, 37521, 37538, 37549, 37564, 37570, 37581, 37594, 37595, 37596, 37662, 37716, 37718, 37721, 37733, 37738, 37749, 37767, 37779, 37781, 37784, 37785, 37789, 37809, 37816, 37836, 37845, 37847, 37862, 37874, 37877, 37924, 37954, 37959, 37969, 37994, 37997, 38002, 38022, 38051, 38054, 38057, 38058, 38069, 38085, 38086, 38095, 38108, 38157, 38168, 38180, 38184, 38200, 38226, 38253, 38291, 38293, 38301, 38309, 38330, 38388, 38389, 38437, 38477, 38486, 38500, 38509, 38522, 38530, 38546, 38582, 38609, 38650, 38657, 38668, 38677, 38690, 38703, 38721, 38747, 38779, 38792, 38808, 38809, 38810, 38815, 38840, 38841, 38843, 38852, 38867, 38884, 38904, 38915, 38931, 38937, 38938, 38945, 38955, 38958, 39018, 39043, 39058, 39064, 39075, 39085, 39096, 39098, 39123, 39127, 39143, 39146, 39195, 39203, 39207, 39219, 39221, 39235, 39236, 39241, 39285, 39318, 39338, 39373, 39376, 39382, 39384, 39413, 39418, 39422, 39425, 39464, 39489, 39499, 39503, 39560, 39561, 39580, 39581, 39588, 39598, 39603, 39695, 39709, 39720, 39724, 39748, 39752, 39780, 39802, 39857, 39860, 39871, 39885, 39899, 39900, 39901, 39923, 39979, 39984, 39993, 39997, 40021, 40034, 40095, 40113, 40127, 40139, 40154, 40155, 40169, 40200, 40204, 40225, 40254, 40263, 40320, 40326, 40327, 40341, 40379, 40430, 40431, 40445, 40467, 40494, 40505, 40507, 40508, 40523, 40524, 40526, 40531, 40533, 40545, 40586, 40622, 40639, 40690, 40695, 40697, 40718, 40752, 40753, 40769, 40785, 40795, 40806, 40834, 40835, 40879, 40922, 40925, 40929, 40939, 40941, 40943, 40957, 40964, 40968, 40970, 40975, 40996, 41007, 41022, 41036, 41045, 41048, 41057, 41065, 41080, 41098, 41117, 41131, 41155, 41212, 41239, 41243, 41259, 41261, 41276, 41279, 41306, 41315, 41321, 41323, 41330, 41335, 41396, 41408, 41415, 41434, 41456, 41457, 41477, 41493, 41502, 41503, 41513, 41550, 41562, 41564, 41568, 41572, 41578, 41592, 41638, 41661, 41667, 41674, 41744, 41764, 41775, 41791, 41799, 41802, 41816, 41818, 41830, 41835, 41853, 41865, 41871, 41892, 41896, 41903, 41933, 41939, 41943, 41955, 41962, 42004, 42012, 42018, 42027, 42029, 42084, 42096, 42103, 42104, 42115, 42119, 42123, 42128, 42132, 42138, 42144, 42150, 42151, 42168, 42173, 42192, 42198, 42201, 42206, 42246, 42249, 42252, 42258, 42279, 42295, 42301, 42356, 42380, 42433, 42450, 42500, 42510, 42535, 42566, 42582, 42583, 42599, 42635, 42640, 42647, 42655, 42657, 42697, 42741, 42786, 42821, 42828, 42857, 42868, 42872, 42881, 42883, 42918, 42924, 42935, 42940, 42952, 42971, 42984, 43001, 43005, 43011, 43038, 43056, 43073, 43077, 43088, 43108, 43130, 43137, 43150, 43155, 43158, 43200, 43236, 43268, 43283, 43292, 43313, 43335, 43381, 43413, 43414, 43453, 43472, 43476, 43478, 43490, 43497, 43504, 43505, 43518, 43530, 43551, 43580, 43684, 43710, 43730, 43733, 43746, 43748, 43797, 43802, 43814, 43823, 43827, 43843, 43847, 43860, 43867, 43874, 43929, 43969, 43991, 43997, 44016, 44017, 44024, 44053, 44054, 44078, 44113, 44120, 44124, 44172, 44183, 44221, 44279, 44290, 44296, 44297, 44316, 44318, 44336, 44337, 44356, 44388, 44392, 44412, 44433, 44439, 44478, 44494, 44497, 44499, 44501, 44510, 44529, 44548, 44556, 44564, 44575, 44577, 44590, 44614, 44633, 44647, 44708, 44741, 44742, 44760, 44762, 44768, 44784, 44843, 44857, 44874, 44898, 44899, 44914, 44916, 44937, 44958, 44990, 45009, 45023, 45037, 45065, 45070, 45072, 45103, 45114, 45122, 45125, 45153, 45155, 45162, 45175, 45180, 45193, 45208, 45232, 45244, 45263, 45274, 45300, 45310, 45313, 45315, 45317, 45329, 45331, 45344, 45345, 45364, 45374, 45398, 45400, 45408, 45460, 45508, 45524, 45529, 45543, 45552, 45591, 45592, 45599, 45613, 45626, 45628, 45630, 45657, 45672, 45691, 45720, 45730, 45751, 45768, 45770, 45780, 45781, 45794, 45803, 45806, 45809, 45834, 45835, 45841, 45852, 45880, 45905, 45911, 45922, 45935, 45940, 45965, 45966, 45970, 45988, 45992, 45996, 46025, 46068, 46074, 46149, 46155, 46157, 46158, 46176, 46177, 46190, 46228, 46263, 46266, 46285, 46286, 46305, 46329, 46341, 46347, 46375, 46397, 46418, 46421, 46437, 46491, 46502, 46531, 46555, 46619, 46648, 46665, 46667, 46694, 46702, 46721, 46726, 46729, 46734, 46751, 46752, 46753, 46758, 46765, 46772, 46783, 46788, 46790, 46792, 46803, 46842, 46844, 46846, 46848, 46854, 46855, 46876, 46883, 46893, 46894, 46907, 46947, 46948, 46975, 46983, 46990, 47011, 47015, 47025, 47040, 47101, 47114, 47120, 47128, 47147, 47151, 47162, 47172, 47177, 47191, 47204, 47251, 47258, 47261, 47266, 47295, 47302, 47317, 47318, 47332, 47342, 47345, 47367, 47370, 47385, 47398, 47403, 47454, 47478, 47486, 47502, 47513, 47517, 47518, 47559, 47597, 47608, 47634, 47645, 47661, 47663, 47761, 47795, 47825, 47830, 47836, 47848, 47870, 47873, 47914, 47971, 47973, 47986, 48010, 48017, 48034, 48043, 48071, 48077, 48096, 48097, 48122, 48126, 48129, 48140, 48141, 48166, 48172, 48190, 48213, 48222, 48248, 48263, 48274, 48312, 48336, 48359, 48370, 48372, 48385, 48416, 48435, 48442, 48447, 48452, 48460, 48463, 48475, 48490, 48495, 48496, 48497, 48518, 48536, 48556, 48559, 48560, 48572, 48577, 48579, 48581, 48585, 48617, 48634, 48673, 48674, 48698, 48740, 48742, 48756, 48758, 48790, 48814, 48826, 48863, 48870, 48878, 48885, 48898, 48937, 48941, 48950, 48959, 48983, 48989, 49007, 49013, 49055, 49075, 49082, 49083, 49094, 49097, 49104, 49106, 49109, 49116, 49144, 49152, 49156, 49165, 49178, 49181, 49245, 49248, 49249, 49268, 49270, 49274, 49289, 49310, 49321, 49337, 49358, 49390, 49391, 49393, 49401, 49412, 49429, 49435, 49453, 49459, 49460, 49467, 49479, 49484, 49500, 49503, 49510, 49535, 49540, 49547, 49548, 49562, 49584, 49591, 49598, 49639, 49678, 49679, 49681, 49700, 49703, 49728, 49742, 49747, 49779, 49784, 49785, 49812, 49823, 49882, 49887, 49889, 49903, 49915, 49925, 49954]\n"
          ]
        }
      ]
    },
    {
      "cell_type": "code",
      "source": [
        "# Defining a method to delete existing outliers from our dataframe\n",
        "\n",
        "def remove_outliers(dataframe, ls):\n",
        "  ls = sorted(set(ls))\n",
        "  dataframe = dataframe.drop(ls)\n",
        "  dataframe.reset_index(drop=True, inplace=True)\n",
        "\n",
        "  return dataframe"
      ],
      "metadata": {
        "id": "iLyn6lbLbl4D"
      },
      "execution_count": 18,
      "outputs": []
    },
    {
      "cell_type": "code",
      "source": [
        "# Sending our existing dataframe and detected outlier indexes to clean existing dataframe from current outliers\n",
        "\n",
        "cleaned_data = remove_outliers(data, index_list)\n",
        "cleaned_data.shape"
      ],
      "metadata": {
        "colab": {
          "base_uri": "https://localhost:8080/"
        },
        "id": "hu0CJ5dycHEP",
        "outputId": "8c03a00c-40d1-4834-b527-51b8ce9670ac"
      },
      "execution_count": 19,
      "outputs": [
        {
          "output_type": "execute_result",
          "data": {
            "text/plain": [
              "(45138, 5)"
            ]
          },
          "metadata": {},
          "execution_count": 19
        }
      ]
    },
    {
      "cell_type": "code",
      "source": [
        "# Separating our dataframe as the input columns and output column \n",
        "\n",
        "y = cleaned_data['price'] \n",
        "X = cleaned_data.drop('price', axis=1)\n",
        "X"
      ],
      "metadata": {
        "colab": {
          "base_uri": "https://localhost:8080/",
          "height": 423
        },
        "id": "7Fd2877ujcjd",
        "outputId": "bf06a182-9f3e-4f70-a37b-3352463933df"
      },
      "execution_count": 20,
      "outputs": [
        {
          "output_type": "execute_result",
          "data": {
            "text/plain": [
              "       carat  cut  color  clarity\n",
              "0       0.51    3      2        4\n",
              "1       0.70    4      1        5\n",
              "2       0.47    1      2        4\n",
              "3       0.30    2      3        6\n",
              "4       0.33    2      0        2\n",
              "...      ...  ...    ...      ...\n",
              "45133   0.71    2      4        6\n",
              "45134   0.43    2      3        7\n",
              "45135   1.14    3      3        5\n",
              "45136   1.01    3      1        5\n",
              "45137   1.77    3      6        5\n",
              "\n",
              "[45138 rows x 4 columns]"
            ],
            "text/html": [
              "\n",
              "  <div id=\"df-42c0bdd4-111d-4365-8dda-7b0822585cfc\">\n",
              "    <div class=\"colab-df-container\">\n",
              "      <div>\n",
              "<style scoped>\n",
              "    .dataframe tbody tr th:only-of-type {\n",
              "        vertical-align: middle;\n",
              "    }\n",
              "\n",
              "    .dataframe tbody tr th {\n",
              "        vertical-align: top;\n",
              "    }\n",
              "\n",
              "    .dataframe thead th {\n",
              "        text-align: right;\n",
              "    }\n",
              "</style>\n",
              "<table border=\"1\" class=\"dataframe\">\n",
              "  <thead>\n",
              "    <tr style=\"text-align: right;\">\n",
              "      <th></th>\n",
              "      <th>carat</th>\n",
              "      <th>cut</th>\n",
              "      <th>color</th>\n",
              "      <th>clarity</th>\n",
              "    </tr>\n",
              "  </thead>\n",
              "  <tbody>\n",
              "    <tr>\n",
              "      <th>0</th>\n",
              "      <td>0.51</td>\n",
              "      <td>3</td>\n",
              "      <td>2</td>\n",
              "      <td>4</td>\n",
              "    </tr>\n",
              "    <tr>\n",
              "      <th>1</th>\n",
              "      <td>0.70</td>\n",
              "      <td>4</td>\n",
              "      <td>1</td>\n",
              "      <td>5</td>\n",
              "    </tr>\n",
              "    <tr>\n",
              "      <th>2</th>\n",
              "      <td>0.47</td>\n",
              "      <td>1</td>\n",
              "      <td>2</td>\n",
              "      <td>4</td>\n",
              "    </tr>\n",
              "    <tr>\n",
              "      <th>3</th>\n",
              "      <td>0.30</td>\n",
              "      <td>2</td>\n",
              "      <td>3</td>\n",
              "      <td>6</td>\n",
              "    </tr>\n",
              "    <tr>\n",
              "      <th>4</th>\n",
              "      <td>0.33</td>\n",
              "      <td>2</td>\n",
              "      <td>0</td>\n",
              "      <td>2</td>\n",
              "    </tr>\n",
              "    <tr>\n",
              "      <th>...</th>\n",
              "      <td>...</td>\n",
              "      <td>...</td>\n",
              "      <td>...</td>\n",
              "      <td>...</td>\n",
              "    </tr>\n",
              "    <tr>\n",
              "      <th>45133</th>\n",
              "      <td>0.71</td>\n",
              "      <td>2</td>\n",
              "      <td>4</td>\n",
              "      <td>6</td>\n",
              "    </tr>\n",
              "    <tr>\n",
              "      <th>45134</th>\n",
              "      <td>0.43</td>\n",
              "      <td>2</td>\n",
              "      <td>3</td>\n",
              "      <td>7</td>\n",
              "    </tr>\n",
              "    <tr>\n",
              "      <th>45135</th>\n",
              "      <td>1.14</td>\n",
              "      <td>3</td>\n",
              "      <td>3</td>\n",
              "      <td>5</td>\n",
              "    </tr>\n",
              "    <tr>\n",
              "      <th>45136</th>\n",
              "      <td>1.01</td>\n",
              "      <td>3</td>\n",
              "      <td>1</td>\n",
              "      <td>5</td>\n",
              "    </tr>\n",
              "    <tr>\n",
              "      <th>45137</th>\n",
              "      <td>1.77</td>\n",
              "      <td>3</td>\n",
              "      <td>6</td>\n",
              "      <td>5</td>\n",
              "    </tr>\n",
              "  </tbody>\n",
              "</table>\n",
              "<p>45138 rows × 4 columns</p>\n",
              "</div>\n",
              "      <button class=\"colab-df-convert\" onclick=\"convertToInteractive('df-42c0bdd4-111d-4365-8dda-7b0822585cfc')\"\n",
              "              title=\"Convert this dataframe to an interactive table.\"\n",
              "              style=\"display:none;\">\n",
              "        \n",
              "  <svg xmlns=\"http://www.w3.org/2000/svg\" height=\"24px\"viewBox=\"0 0 24 24\"\n",
              "       width=\"24px\">\n",
              "    <path d=\"M0 0h24v24H0V0z\" fill=\"none\"/>\n",
              "    <path d=\"M18.56 5.44l.94 2.06.94-2.06 2.06-.94-2.06-.94-.94-2.06-.94 2.06-2.06.94zm-11 1L8.5 8.5l.94-2.06 2.06-.94-2.06-.94L8.5 2.5l-.94 2.06-2.06.94zm10 10l.94 2.06.94-2.06 2.06-.94-2.06-.94-.94-2.06-.94 2.06-2.06.94z\"/><path d=\"M17.41 7.96l-1.37-1.37c-.4-.4-.92-.59-1.43-.59-.52 0-1.04.2-1.43.59L10.3 9.45l-7.72 7.72c-.78.78-.78 2.05 0 2.83L4 21.41c.39.39.9.59 1.41.59.51 0 1.02-.2 1.41-.59l7.78-7.78 2.81-2.81c.8-.78.8-2.07 0-2.86zM5.41 20L4 18.59l7.72-7.72 1.47 1.35L5.41 20z\"/>\n",
              "  </svg>\n",
              "      </button>\n",
              "      \n",
              "  <style>\n",
              "    .colab-df-container {\n",
              "      display:flex;\n",
              "      flex-wrap:wrap;\n",
              "      gap: 12px;\n",
              "    }\n",
              "\n",
              "    .colab-df-convert {\n",
              "      background-color: #E8F0FE;\n",
              "      border: none;\n",
              "      border-radius: 50%;\n",
              "      cursor: pointer;\n",
              "      display: none;\n",
              "      fill: #1967D2;\n",
              "      height: 32px;\n",
              "      padding: 0 0 0 0;\n",
              "      width: 32px;\n",
              "    }\n",
              "\n",
              "    .colab-df-convert:hover {\n",
              "      background-color: #E2EBFA;\n",
              "      box-shadow: 0px 1px 2px rgba(60, 64, 67, 0.3), 0px 1px 3px 1px rgba(60, 64, 67, 0.15);\n",
              "      fill: #174EA6;\n",
              "    }\n",
              "\n",
              "    [theme=dark] .colab-df-convert {\n",
              "      background-color: #3B4455;\n",
              "      fill: #D2E3FC;\n",
              "    }\n",
              "\n",
              "    [theme=dark] .colab-df-convert:hover {\n",
              "      background-color: #434B5C;\n",
              "      box-shadow: 0px 1px 3px 1px rgba(0, 0, 0, 0.15);\n",
              "      filter: drop-shadow(0px 1px 2px rgba(0, 0, 0, 0.3));\n",
              "      fill: #FFFFFF;\n",
              "    }\n",
              "  </style>\n",
              "\n",
              "      <script>\n",
              "        const buttonEl =\n",
              "          document.querySelector('#df-42c0bdd4-111d-4365-8dda-7b0822585cfc button.colab-df-convert');\n",
              "        buttonEl.style.display =\n",
              "          google.colab.kernel.accessAllowed ? 'block' : 'none';\n",
              "\n",
              "        async function convertToInteractive(key) {\n",
              "          const element = document.querySelector('#df-42c0bdd4-111d-4365-8dda-7b0822585cfc');\n",
              "          const dataTable =\n",
              "            await google.colab.kernel.invokeFunction('convertToInteractive',\n",
              "                                                     [key], {});\n",
              "          if (!dataTable) return;\n",
              "\n",
              "          const docLinkHtml = 'Like what you see? Visit the ' +\n",
              "            '<a target=\"_blank\" href=https://colab.research.google.com/notebooks/data_table.ipynb>data table notebook</a>'\n",
              "            + ' to learn more about interactive tables.';\n",
              "          element.innerHTML = '';\n",
              "          dataTable['output_type'] = 'display_data';\n",
              "          await google.colab.output.renderOutput(dataTable, element);\n",
              "          const docLink = document.createElement('div');\n",
              "          docLink.innerHTML = docLinkHtml;\n",
              "          element.appendChild(docLink);\n",
              "        }\n",
              "      </script>\n",
              "    </div>\n",
              "  </div>\n",
              "  "
            ]
          },
          "metadata": {},
          "execution_count": 20
        }
      ]
    },
    {
      "cell_type": "code",
      "source": [
        "y"
      ],
      "metadata": {
        "colab": {
          "base_uri": "https://localhost:8080/"
        },
        "id": "vlDtO_E1jdDv",
        "outputId": "ec167b6a-b656-4332-9e12-bf4e1109d050"
      },
      "execution_count": 21,
      "outputs": [
        {
          "output_type": "execute_result",
          "data": {
            "text/plain": [
              "0        1749.0\n",
              "1        2757.0\n",
              "2        1243.0\n",
              "3         789.0\n",
              "4         728.0\n",
              "          ...  \n",
              "45133    2918.0\n",
              "45134    1056.0\n",
              "45135    6619.0\n",
              "45136    6787.0\n",
              "45137    9428.0\n",
              "Name: price, Length: 45138, dtype: float64"
            ]
          },
          "metadata": {},
          "execution_count": 21
        }
      ]
    },
    {
      "cell_type": "code",
      "source": [
        "# Fitting our existing dataframe values into the interval of 0-1. Each specific value represents a specific number between zero and one\n",
        "\n",
        "scaler = MinMaxScaler()\n",
        "X = scaler.fit_transform(X)\n",
        "X"
      ],
      "metadata": {
        "colab": {
          "base_uri": "https://localhost:8080/"
        },
        "id": "q8FIGl15mIAm",
        "outputId": "3789b51a-f178-44ee-d715-df90a91aaae4"
      },
      "execution_count": 22,
      "outputs": [
        {
          "output_type": "execute_result",
          "data": {
            "text/plain": [
              "array([[0.17222222, 0.66666667, 0.33333333, 0.57142857],\n",
              "       [0.27777778, 1.        , 0.16666667, 0.71428571],\n",
              "       [0.15      , 0.        , 0.33333333, 0.57142857],\n",
              "       ...,\n",
              "       [0.52222222, 0.66666667, 0.5       , 0.71428571],\n",
              "       [0.45      , 0.66666667, 0.16666667, 0.71428571],\n",
              "       [0.87222222, 0.66666667, 1.        , 0.71428571]])"
            ]
          },
          "metadata": {},
          "execution_count": 22
        }
      ]
    },
    {
      "cell_type": "code",
      "source": [
        "# Splitting the training and testing data (80% for training and 20% for testing)\n",
        "\n",
        "X_train, X_test, y_train, y_test = train_test_split(X, y, test_size = 0.2)"
      ],
      "metadata": {
        "id": "--3B0G1PGIfM"
      },
      "execution_count": 23,
      "outputs": []
    },
    {
      "cell_type": "code",
      "source": [
        "# Creating a linear regression model and giving the training inputs to the created model\n",
        "\n",
        "model = LinearRegression()\n",
        "model.fit(X_train, y_train)"
      ],
      "metadata": {
        "colab": {
          "base_uri": "https://localhost:8080/"
        },
        "id": "vm36GEd2GdFJ",
        "outputId": "ac11289b-ba1a-4e0d-d267-0ee49a128de4"
      },
      "execution_count": 24,
      "outputs": [
        {
          "output_type": "execute_result",
          "data": {
            "text/plain": [
              "LinearRegression()"
            ]
          },
          "metadata": {},
          "execution_count": 24
        }
      ]
    },
    {
      "cell_type": "code",
      "source": [
        "# Observing the \"r-square\" and \"root mean square error\" values depending on test set. \"1.0\" is best for R^2 and RMSE depends on the existing data\n",
        "\n",
        "y_pred = model.predict(X_test)\n",
        "\n",
        "print(f\"The score for R^2: {r2_score(y_test, y_pred)}\")\n",
        "print(f\"The score for RMSE: {np.sqrt(mean_squared_error(y_test, y_pred))}\")"
      ],
      "metadata": {
        "colab": {
          "base_uri": "https://localhost:8080/"
        },
        "id": "Cq-F6GG4IYEm",
        "outputId": "a9e35429-1bad-4735-ca81-8970cbb12da0"
      },
      "execution_count": 25,
      "outputs": [
        {
          "output_type": "stream",
          "name": "stdout",
          "text": [
            "The score for R^2: 0.8862010240806438\n",
            "The score for RMSE: 928.983810262254\n"
          ]
        }
      ]
    }
  ]
}